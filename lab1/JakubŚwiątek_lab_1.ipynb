{
  "cells": [
    {
      "cell_type": "markdown",
      "metadata": {
        "id": "ERFheNnk-uys"
      },
      "source": [
        "# Modele liniowe"
      ]
    },
    {
      "cell_type": "code",
      "execution_count": 1,
      "metadata": {},
      "outputs": [
        {
          "name": "stdout",
          "output_type": "stream",
          "text": [
            "Requirement already satisfied: seaborn in c:\\users\\jswia\\appdata\\local\\packages\\pythonsoftwarefoundation.python.3.9_qbz5n2kfra8p0\\localcache\\local-packages\\python39\\site-packages (0.13.2)\n",
            "Requirement already satisfied: numpy!=1.24.0,>=1.20 in c:\\users\\jswia\\appdata\\local\\packages\\pythonsoftwarefoundation.python.3.9_qbz5n2kfra8p0\\localcache\\local-packages\\python39\\site-packages (from seaborn) (1.24.2)\n",
            "Requirement already satisfied: pandas>=1.2 in c:\\users\\jswia\\appdata\\local\\packages\\pythonsoftwarefoundation.python.3.9_qbz5n2kfra8p0\\localcache\\local-packages\\python39\\site-packages (from seaborn) (2.0.0)\n",
            "Requirement already satisfied: matplotlib!=3.6.1,>=3.4 in c:\\users\\jswia\\appdata\\local\\packages\\pythonsoftwarefoundation.python.3.9_qbz5n2kfra8p0\\localcache\\local-packages\\python39\\site-packages (from seaborn) (3.5.2)\n",
            "Requirement already satisfied: cycler>=0.10 in c:\\users\\jswia\\appdata\\local\\packages\\pythonsoftwarefoundation.python.3.9_qbz5n2kfra8p0\\localcache\\local-packages\\python39\\site-packages (from matplotlib!=3.6.1,>=3.4->seaborn) (0.11.0)\n",
            "Requirement already satisfied: fonttools>=4.22.0 in c:\\users\\jswia\\appdata\\local\\packages\\pythonsoftwarefoundation.python.3.9_qbz5n2kfra8p0\\localcache\\local-packages\\python39\\site-packages (from matplotlib!=3.6.1,>=3.4->seaborn) (4.33.3)\n",
            "Requirement already satisfied: kiwisolver>=1.0.1 in c:\\users\\jswia\\appdata\\local\\packages\\pythonsoftwarefoundation.python.3.9_qbz5n2kfra8p0\\localcache\\local-packages\\python39\\site-packages (from matplotlib!=3.6.1,>=3.4->seaborn) (1.4.2)\n",
            "Requirement already satisfied: packaging>=20.0 in c:\\users\\jswia\\appdata\\local\\packages\\pythonsoftwarefoundation.python.3.9_qbz5n2kfra8p0\\localcache\\local-packages\\python39\\site-packages (from matplotlib!=3.6.1,>=3.4->seaborn) (23.2)\n",
            "Requirement already satisfied: pillow>=6.2.0 in c:\\users\\jswia\\appdata\\local\\packages\\pythonsoftwarefoundation.python.3.9_qbz5n2kfra8p0\\localcache\\local-packages\\python39\\site-packages (from matplotlib!=3.6.1,>=3.4->seaborn) (8.1.0)\n",
            "Requirement already satisfied: pyparsing>=2.2.1 in c:\\users\\jswia\\appdata\\local\\packages\\pythonsoftwarefoundation.python.3.9_qbz5n2kfra8p0\\localcache\\local-packages\\python39\\site-packages (from matplotlib!=3.6.1,>=3.4->seaborn) (3.0.9)\n",
            "Requirement already satisfied: python-dateutil>=2.7 in c:\\users\\jswia\\appdata\\local\\packages\\pythonsoftwarefoundation.python.3.9_qbz5n2kfra8p0\\localcache\\local-packages\\python39\\site-packages (from matplotlib!=3.6.1,>=3.4->seaborn) (2.8.2)\n",
            "Requirement already satisfied: pytz>=2020.1 in c:\\users\\jswia\\appdata\\local\\packages\\pythonsoftwarefoundation.python.3.9_qbz5n2kfra8p0\\localcache\\local-packages\\python39\\site-packages (from pandas>=1.2->seaborn) (2023.3)\n",
            "Requirement already satisfied: tzdata>=2022.1 in c:\\users\\jswia\\appdata\\local\\packages\\pythonsoftwarefoundation.python.3.9_qbz5n2kfra8p0\\localcache\\local-packages\\python39\\site-packages (from pandas>=1.2->seaborn) (2023.3)\n",
            "Requirement already satisfied: six>=1.5 in c:\\users\\jswia\\appdata\\local\\packages\\pythonsoftwarefoundation.python.3.9_qbz5n2kfra8p0\\localcache\\local-packages\\python39\\site-packages (from python-dateutil>=2.7->matplotlib!=3.6.1,>=3.4->seaborn) (1.16.0)\n",
            "Note: you may need to restart the kernel to use updated packages.\n"
          ]
        }
      ],
      "source": [
        "%pip install seaborn"
      ]
    },
    {
      "cell_type": "code",
      "execution_count": 1,
      "metadata": {
        "id": "AyB2jVU2-uyt"
      },
      "outputs": [],
      "source": [
        "import matplotlib.pyplot as plt\n",
        "import numpy as np\n",
        "import pandas as pd\n",
        "import seaborn as sns"
      ]
    },
    {
      "cell_type": "code",
      "execution_count": 3,
      "metadata": {},
      "outputs": [
        {
          "name": "stdout",
          "output_type": "stream",
          "text": [
            "Requirement already satisfied: scikit-learn in c:\\users\\jswia\\appdata\\local\\packages\\pythonsoftwarefoundation.python.3.9_qbz5n2kfra8p0\\localcache\\local-packages\\python39\\site-packages (1.4.1.post1)\n",
            "Requirement already satisfied: numpy<2.0,>=1.19.5 in c:\\users\\jswia\\appdata\\local\\packages\\pythonsoftwarefoundation.python.3.9_qbz5n2kfra8p0\\localcache\\local-packages\\python39\\site-packages (from scikit-learn) (1.24.2)\n",
            "Requirement already satisfied: scipy>=1.6.0 in c:\\users\\jswia\\appdata\\local\\packages\\pythonsoftwarefoundation.python.3.9_qbz5n2kfra8p0\\localcache\\local-packages\\python39\\site-packages (from scikit-learn) (1.11.4)\n",
            "Requirement already satisfied: joblib>=1.2.0 in c:\\users\\jswia\\appdata\\local\\packages\\pythonsoftwarefoundation.python.3.9_qbz5n2kfra8p0\\localcache\\local-packages\\python39\\site-packages (from scikit-learn) (1.3.2)\n",
            "Requirement already satisfied: threadpoolctl>=2.0.0 in c:\\users\\jswia\\appdata\\local\\packages\\pythonsoftwarefoundation.python.3.9_qbz5n2kfra8p0\\localcache\\local-packages\\python39\\site-packages (from scikit-learn) (3.3.0)\n",
            "Note: you may need to restart the kernel to use updated packages.\n"
          ]
        }
      ],
      "source": [
        "%pip install scikit-learn"
      ]
    },
    {
      "cell_type": "markdown",
      "metadata": {
        "id": "6j573gGD-uyu"
      },
      "source": [
        "Na początek ustawimy globalnie opcję `set_output` ze Scikit-learn'a ([dokumentacja](https://scikit-learn.org/stable/auto_examples/miscellaneous/plot_set_output.html)). Dzięki temu transformowane dane będą zawsze na wyjściu typu `pd.DataFrame`, zamiast `np.ndarray`, i zachowają odpowiednie nazwy cech."
      ]
    },
    {
      "cell_type": "code",
      "execution_count": 2,
      "metadata": {
        "id": "b0PPyPqk-uyv"
      },
      "outputs": [],
      "source": [
        "import sklearn\n",
        "\n",
        "sklearn.set_config(transform_output=\"pandas\")"
      ]
    },
    {
      "cell_type": "markdown",
      "metadata": {
        "id": "U_2ulFzq-uyv"
      },
      "source": [
        "## Przewidywanie cen domów"
      ]
    },
    {
      "cell_type": "markdown",
      "metadata": {
        "id": "84-nLEV5-uyv"
      },
      "source": [
        "Wykorzystamy zbiór danych [Ames housing](https://www.openintro.org/book/statdata/?data=ames), w którym zadaniem jest przewidywanie wartości domu na podstawie cech budynku, działki, lokalizacji itp. Jest to więc przewidywanie wartości ciągłej, czyli regresja. Obejmuje zmienne do usunięcia (np. ID transakcji), numeryczne (floaty i inty), kategoryczne nieuporządkowane (*categorical nominal*) oraz kategoryczne uporządkowane (*categorical ordinal*), więc będzie wymagał wstępnego przetworzenia tak jak większość prawdziwych danych w ML.\n",
        "\n",
        "Inne znane, ale gorsze jakościowo zbiory tego typu to na przykład:\n",
        "- Boston housing - rasistowski, z tego powodu usunięty np. ze Scikit-learn ([wyjaśnienie](https://fairlearn.org/main/user_guide/datasets/boston_housing_data.html), [dyskusja](https://github.com/quantumblacklabs/causalnex/issues/92), [badanie](https://medium.com/@docintangible/racist-data-destruction-113e3eff54a8))\n",
        "- California housing - zbyt prosty (tylko kilka zmiennych numerycznych), użyty np. w książce \"Hands-On Machine Learning with Scikit-Learn, Keras, and TensorFlow\" A. Geron ([opis](https://inria.github.io/scikit-learn-mooc/python_scripts/datasets_california_housing.html))\n",
        "\n",
        "Autor zbioru to Dean De Cock, a zbiór został opisany oryginalnie w [tym artykule](https://jse.amstat.org/v19n3/decock.pdf). Szczegółowe opisy zmiennych znajdują się w pliku `ames_description.txt`.\n",
        "\n",
        "Formatem pliku jest **Apache Parquet**, bardzo wydajny format binarny. Ma on szereg zalet w ML i inżynierii danych porównaniu do plików CSV:\n",
        "- zapisuje informacje o typie kolumn\n",
        "- jednoznaczna specyfikacja (np. brak problemów z typem separatora, jak w CSV)\n",
        "- kompresja liczb, napisów etc. w oparciu o ich typ\n",
        "- znacznie mniejszy rozmiar plików, zwykle kilka razy\n",
        "- dużo większa szybkość zapisu i odczytu\n",
        "\n",
        "Dla zainteresowanych szczegółami: [link 1](https://www.databricks.com/glossary/what-is-parquet#:~:text=Apache%20Parquet%20is%20an%20open,handle%20complex%20data%20in%20bulk.), [link 2](https://data-mozart.com/parquet-file-format-everything-you-need-to-know/), [link 3](https://learncsdesigns.medium.com/understanding-apache-parquet-d722645cfe74). Ten format ma szerokie wsparcie, w tym w Pandasie. W przypadku tego zbioru, CSV zajmuje ~1.2 MB, a Parquet ~0.2 MB."
      ]
    },
    {
      "cell_type": "code",
      "execution_count": 5,
      "metadata": {},
      "outputs": [
        {
          "name": "stdout",
          "output_type": "stream",
          "text": [
            "Requirement already satisfied: pyarrow in c:\\users\\jswia\\appdata\\local\\packages\\pythonsoftwarefoundation.python.3.9_qbz5n2kfra8p0\\localcache\\local-packages\\python39\\site-packages (15.0.1)\n",
            "Requirement already satisfied: numpy<2,>=1.16.6 in c:\\users\\jswia\\appdata\\local\\packages\\pythonsoftwarefoundation.python.3.9_qbz5n2kfra8p0\\localcache\\local-packages\\python39\\site-packages (from pyarrow) (1.24.2)\n",
            "Note: you may need to restart the kernel to use updated packages.\n",
            "Requirement already satisfied: fastparquet in c:\\users\\jswia\\appdata\\local\\packages\\pythonsoftwarefoundation.python.3.9_qbz5n2kfra8p0\\localcache\\local-packages\\python39\\site-packages (2024.2.0)\n",
            "Requirement already satisfied: pandas>=1.5.0 in c:\\users\\jswia\\appdata\\local\\packages\\pythonsoftwarefoundation.python.3.9_qbz5n2kfra8p0\\localcache\\local-packages\\python39\\site-packages (from fastparquet) (2.0.0)\n",
            "Requirement already satisfied: numpy>=1.20.3 in c:\\users\\jswia\\appdata\\local\\packages\\pythonsoftwarefoundation.python.3.9_qbz5n2kfra8p0\\localcache\\local-packages\\python39\\site-packages (from fastparquet) (1.24.2)\n",
            "Requirement already satisfied: cramjam>=2.3 in c:\\users\\jswia\\appdata\\local\\packages\\pythonsoftwarefoundation.python.3.9_qbz5n2kfra8p0\\localcache\\local-packages\\python39\\site-packages (from fastparquet) (2.8.2)\n",
            "Requirement already satisfied: fsspec in c:\\users\\jswia\\appdata\\local\\packages\\pythonsoftwarefoundation.python.3.9_qbz5n2kfra8p0\\localcache\\local-packages\\python39\\site-packages (from fastparquet) (2024.2.0)\n",
            "Requirement already satisfied: packaging in c:\\users\\jswia\\appdata\\local\\packages\\pythonsoftwarefoundation.python.3.9_qbz5n2kfra8p0\\localcache\\local-packages\\python39\\site-packages (from fastparquet) (23.2)\n",
            "Requirement already satisfied: python-dateutil>=2.8.2 in c:\\users\\jswia\\appdata\\local\\packages\\pythonsoftwarefoundation.python.3.9_qbz5n2kfra8p0\\localcache\\local-packages\\python39\\site-packages (from pandas>=1.5.0->fastparquet) (2.8.2)\n",
            "Requirement already satisfied: pytz>=2020.1 in c:\\users\\jswia\\appdata\\local\\packages\\pythonsoftwarefoundation.python.3.9_qbz5n2kfra8p0\\localcache\\local-packages\\python39\\site-packages (from pandas>=1.5.0->fastparquet) (2023.3)\n",
            "Requirement already satisfied: tzdata>=2022.1 in c:\\users\\jswia\\appdata\\local\\packages\\pythonsoftwarefoundation.python.3.9_qbz5n2kfra8p0\\localcache\\local-packages\\python39\\site-packages (from pandas>=1.5.0->fastparquet) (2023.3)\n",
            "Requirement already satisfied: six>=1.5 in c:\\users\\jswia\\appdata\\local\\packages\\pythonsoftwarefoundation.python.3.9_qbz5n2kfra8p0\\localcache\\local-packages\\python39\\site-packages (from python-dateutil>=2.8.2->pandas>=1.5.0->fastparquet) (1.16.0)\n",
            "Note: you may need to restart the kernel to use updated packages.\n"
          ]
        }
      ],
      "source": [
        "%pip install pyarrow\n",
        "%pip install fastparquet"
      ]
    },
    {
      "cell_type": "code",
      "execution_count": 3,
      "metadata": {
        "colab": {
          "base_uri": "https://localhost:8080/",
          "height": 255
        },
        "id": "AtivEX8a-uyv",
        "outputId": "cec5ab17-89ed-481c-9b23-7d9089fcae79"
      },
      "outputs": [
        {
          "data": {
            "text/html": [
              "<div>\n",
              "<style scoped>\n",
              "    .dataframe tbody tr th:only-of-type {\n",
              "        vertical-align: middle;\n",
              "    }\n",
              "\n",
              "    .dataframe tbody tr th {\n",
              "        vertical-align: top;\n",
              "    }\n",
              "\n",
              "    .dataframe thead th {\n",
              "        text-align: right;\n",
              "    }\n",
              "</style>\n",
              "<table border=\"1\" class=\"dataframe\">\n",
              "  <thead>\n",
              "    <tr style=\"text-align: right;\">\n",
              "      <th></th>\n",
              "      <th>Order</th>\n",
              "      <th>PID</th>\n",
              "      <th>MSSubClass</th>\n",
              "      <th>MSZoning</th>\n",
              "      <th>LotFrontage</th>\n",
              "      <th>LotArea</th>\n",
              "      <th>Street</th>\n",
              "      <th>Alley</th>\n",
              "      <th>LotShape</th>\n",
              "      <th>LandContour</th>\n",
              "      <th>...</th>\n",
              "      <th>PoolArea</th>\n",
              "      <th>PoolQC</th>\n",
              "      <th>Fence</th>\n",
              "      <th>MiscFeature</th>\n",
              "      <th>MiscVal</th>\n",
              "      <th>MoSold</th>\n",
              "      <th>YrSold</th>\n",
              "      <th>SaleType</th>\n",
              "      <th>SaleCondition</th>\n",
              "      <th>SalePrice</th>\n",
              "    </tr>\n",
              "  </thead>\n",
              "  <tbody>\n",
              "    <tr>\n",
              "      <th>0</th>\n",
              "      <td>1</td>\n",
              "      <td>526301100</td>\n",
              "      <td>20</td>\n",
              "      <td>RL</td>\n",
              "      <td>141.0</td>\n",
              "      <td>31770</td>\n",
              "      <td>Pave</td>\n",
              "      <td>None</td>\n",
              "      <td>IR1</td>\n",
              "      <td>Lvl</td>\n",
              "      <td>...</td>\n",
              "      <td>0</td>\n",
              "      <td>None</td>\n",
              "      <td>None</td>\n",
              "      <td>None</td>\n",
              "      <td>0</td>\n",
              "      <td>5</td>\n",
              "      <td>2010</td>\n",
              "      <td>WD</td>\n",
              "      <td>Normal</td>\n",
              "      <td>215000</td>\n",
              "    </tr>\n",
              "    <tr>\n",
              "      <th>1</th>\n",
              "      <td>2</td>\n",
              "      <td>526350040</td>\n",
              "      <td>20</td>\n",
              "      <td>RH</td>\n",
              "      <td>80.0</td>\n",
              "      <td>11622</td>\n",
              "      <td>Pave</td>\n",
              "      <td>None</td>\n",
              "      <td>Reg</td>\n",
              "      <td>Lvl</td>\n",
              "      <td>...</td>\n",
              "      <td>0</td>\n",
              "      <td>None</td>\n",
              "      <td>MnPrv</td>\n",
              "      <td>None</td>\n",
              "      <td>0</td>\n",
              "      <td>6</td>\n",
              "      <td>2010</td>\n",
              "      <td>WD</td>\n",
              "      <td>Normal</td>\n",
              "      <td>105000</td>\n",
              "    </tr>\n",
              "    <tr>\n",
              "      <th>2</th>\n",
              "      <td>3</td>\n",
              "      <td>526351010</td>\n",
              "      <td>20</td>\n",
              "      <td>RL</td>\n",
              "      <td>81.0</td>\n",
              "      <td>14267</td>\n",
              "      <td>Pave</td>\n",
              "      <td>None</td>\n",
              "      <td>IR1</td>\n",
              "      <td>Lvl</td>\n",
              "      <td>...</td>\n",
              "      <td>0</td>\n",
              "      <td>None</td>\n",
              "      <td>None</td>\n",
              "      <td>Gar2</td>\n",
              "      <td>12500</td>\n",
              "      <td>6</td>\n",
              "      <td>2010</td>\n",
              "      <td>WD</td>\n",
              "      <td>Normal</td>\n",
              "      <td>172000</td>\n",
              "    </tr>\n",
              "    <tr>\n",
              "      <th>3</th>\n",
              "      <td>4</td>\n",
              "      <td>526353030</td>\n",
              "      <td>20</td>\n",
              "      <td>RL</td>\n",
              "      <td>93.0</td>\n",
              "      <td>11160</td>\n",
              "      <td>Pave</td>\n",
              "      <td>None</td>\n",
              "      <td>Reg</td>\n",
              "      <td>Lvl</td>\n",
              "      <td>...</td>\n",
              "      <td>0</td>\n",
              "      <td>None</td>\n",
              "      <td>None</td>\n",
              "      <td>None</td>\n",
              "      <td>0</td>\n",
              "      <td>4</td>\n",
              "      <td>2010</td>\n",
              "      <td>WD</td>\n",
              "      <td>Normal</td>\n",
              "      <td>244000</td>\n",
              "    </tr>\n",
              "    <tr>\n",
              "      <th>4</th>\n",
              "      <td>5</td>\n",
              "      <td>527105010</td>\n",
              "      <td>60</td>\n",
              "      <td>RL</td>\n",
              "      <td>74.0</td>\n",
              "      <td>13830</td>\n",
              "      <td>Pave</td>\n",
              "      <td>None</td>\n",
              "      <td>IR1</td>\n",
              "      <td>Lvl</td>\n",
              "      <td>...</td>\n",
              "      <td>0</td>\n",
              "      <td>None</td>\n",
              "      <td>MnPrv</td>\n",
              "      <td>None</td>\n",
              "      <td>0</td>\n",
              "      <td>3</td>\n",
              "      <td>2010</td>\n",
              "      <td>WD</td>\n",
              "      <td>Normal</td>\n",
              "      <td>189900</td>\n",
              "    </tr>\n",
              "  </tbody>\n",
              "</table>\n",
              "<p>5 rows × 82 columns</p>\n",
              "</div>"
            ],
            "text/plain": [
              "   Order        PID  MSSubClass MSZoning  LotFrontage  LotArea Street Alley   \n",
              "0      1  526301100          20       RL        141.0    31770   Pave  None  \\\n",
              "1      2  526350040          20       RH         80.0    11622   Pave  None   \n",
              "2      3  526351010          20       RL         81.0    14267   Pave  None   \n",
              "3      4  526353030          20       RL         93.0    11160   Pave  None   \n",
              "4      5  527105010          60       RL         74.0    13830   Pave  None   \n",
              "\n",
              "  LotShape LandContour  ... PoolArea PoolQC  Fence MiscFeature MiscVal MoSold   \n",
              "0      IR1         Lvl  ...        0   None   None        None       0      5  \\\n",
              "1      Reg         Lvl  ...        0   None  MnPrv        None       0      6   \n",
              "2      IR1         Lvl  ...        0   None   None        Gar2   12500      6   \n",
              "3      Reg         Lvl  ...        0   None   None        None       0      4   \n",
              "4      IR1         Lvl  ...        0   None  MnPrv        None       0      3   \n",
              "\n",
              "  YrSold SaleType  SaleCondition  SalePrice  \n",
              "0   2010      WD          Normal     215000  \n",
              "1   2010      WD          Normal     105000  \n",
              "2   2010      WD          Normal     172000  \n",
              "3   2010      WD          Normal     244000  \n",
              "4   2010      WD          Normal     189900  \n",
              "\n",
              "[5 rows x 82 columns]"
            ]
          },
          "execution_count": 3,
          "metadata": {},
          "output_type": "execute_result"
        }
      ],
      "source": [
        "df = pd.read_parquet(\"ames_data.parquet\")\n",
        "\n",
        "# remove dots from names to match data_description.txt\n",
        "df.columns = [col.replace(\".\", \"\") for col in df.columns]\n",
        "\n",
        "df.head()"
      ]
    },
    {
      "cell_type": "code",
      "execution_count": 4,
      "metadata": {
        "colab": {
          "base_uri": "https://localhost:8080/"
        },
        "id": "o7oE9Lx0-uyw",
        "outputId": "9252d637-adb9-431c-e363-730a9096b6ec"
      },
      "outputs": [
        {
          "data": {
            "text/plain": [
              "(2930, 82)"
            ]
          },
          "execution_count": 4,
          "metadata": {},
          "output_type": "execute_result"
        }
      ],
      "source": [
        "df.shape"
      ]
    },
    {
      "cell_type": "markdown",
      "metadata": {
        "id": "nqKex2Zz-uyw"
      },
      "source": [
        "## Eksploracja danych, czyszczenie danych i inżynieria cech"
      ]
    },
    {
      "cell_type": "markdown",
      "metadata": {
        "id": "7aA3GGbB-uyw"
      },
      "source": [
        "Wstępne czyszczenie danych (*data cleaning*) obejmuje:\n",
        "- usunięcie kolumn `Order` oraz `PID`\n",
        "- usunięcie obserwacji odstających (*outliers*), które mają powyżej 4000 stóp kwadratowych (ok. 370 metrów kwadratowych) powierzchni\n",
        "- usunięcie wpisów z dzielnic `GrnHill` oraz `Landmrk`, które obejmują w sumie zaledwie 3 domy\n",
        "- transformacja logarytmiczna zmiennej zależnej (ceny domu)\n",
        "\n",
        "To drugie jest motywowane wykresem przedstawionym poniżej. Zostało uznane za błąd już przez samego autora."
      ]
    },
    {
      "cell_type": "code",
      "execution_count": 5,
      "metadata": {
        "colab": {
          "base_uri": "https://localhost:8080/",
          "height": 927
        },
        "id": "_cK-hcGQ-uyw",
        "outputId": "1cbe9db3-8bdf-4a53-d083-cf1c39cfbb96"
      },
      "outputs": [
        {
          "data": {
            "image/png": "[encoded data removed]",
            "text/plain": [
              "<Figure size 640x480 with 1 Axes>"
            ]
          },
          "metadata": {},
          "output_type": "display_data"
        },
        {
          "data": {
            "image/png": "[encoded data removed]",
            "text/plain": [
              "<Figure size 640x480 with 1 Axes>"
            ]
          },
          "metadata": {},
          "output_type": "display_data"
        }
      ],
      "source": [
        "df = df.drop([\"Order\", \"PID\"], axis=\"columns\")\n",
        "df = df.loc[~df[\"Neighborhood\"].isin([\"GrnHill\", \"Landmrk\"]), :]\n",
        "\n",
        "plt.scatter(df[\"GrLivArea\"], df[\"SalePrice\"])\n",
        "plt.title(\"House area vs price\")\n",
        "plt.xlabel(\"GrLivArea\")\n",
        "plt.ylabel(\"SalePrice\")\n",
        "plt.show()\n",
        "\n",
        "df = df.loc[df[\"GrLivArea\"] <= 4000, :]\n",
        "\n",
        "plt.scatter(df[\"GrLivArea\"], df[\"SalePrice\"])\n",
        "plt.title(\"House area vs price, outliers removed\")\n",
        "plt.xlabel(\"GrLivArea\")\n",
        "plt.ylabel(\"SalePrice\")\n",
        "plt.show()"
      ]
    },
    {
      "cell_type": "markdown",
      "metadata": {
        "id": "SN2EBjRu-uyw"
      },
      "source": [
        "Zawsze warto też przyjrzeć się rozkładowi zmiennej docelowej, żeby poznać jego typ i skalę. Jak widać poniżej, rozkład jest dość skośny, co ma sens - mało jest bardzo drogich domów. Można to zatem uznać za problem **regresji niezbalansowanej (imbalanced regression)**, w którym rozkład zmiennej docelowej nie jest normalny.\n",
        "\n",
        "Załóżmy, że typowego klienta nie interesują bardzo drogie domy. Cały ciężki ogon rozkładu można zatem uznać zasadniczo za outliery - im większa wartość, tym mniej interesuje przeciętną osobę. Warto też pamiętać, że realny \"przeciętny\" dochód to mediana, a nie średnia zarobków, co odpowiednio przekłada się na zainteresowanie domami.\n",
        "\n",
        "W tym przypadku warto przetransformować tę zmienną logarytmem bliżej rozkładu normalnego z dwóch powodów.\n",
        "\n",
        "Po pierwsze, stabilność numeryczna - wartości są bardzo duże, rzędu setek tysięcy, i przy obliczaniu odchylenia standardowego czy wariancji to byłby problem. Logarytm to przykład **transformacji stabilizującej wariancję (variance-stabilizing transform)**.\n",
        "\n",
        "Ponadto regresja liniowa (pierwszy model liniowy, który będziemy rozważać) czyni szereg założeń w modelowaniu, co wynika z jej podstaw statystycznych. Są to między innymi:\n",
        "1. **Normalność błędów (residuals normality)** - błędy modelu, czyli $y - \\hat{y}$, mają rozkład normalny\n",
        "2. **Homoskedastyczność (homoscedasticity)** - błędy mają stałą wariancję, czyli nie zależą od wielkości zmiennej zależnej\n",
        "\n",
        "W naszym przypadku oznacza to, że podobnie często nie doceniamy albo przeceniamy wartość domu, oraz dla tanich i drogich domów mamy podobny błąd. Przy rozkładzie zmiennej zależnej bardzo różnym od normalnego te założenia są typowo łamane, co skutkuje gorszą jakością predykcji modelu. Dlatego transformacji warto też dokonać dla lepszej jakości modelu.\n",
        "\n",
        "Skąd wiemy, że logarytm? Bo rozkłady o dodaniej skośności (positively skewed) przesuwa się \"w prawo\" właśnie logarytmem, a w drugą stronę eksponentą. Dla zainteresowanych: [link 1](https://www.biostathandbook.com/transformation.html), [link 2](https://bookdown.org/dereksonderegger/571/8-LogTransformations-Chapter.html). Są też algorytmy, które potrafią same estymować potrzebną transformację, np. **Box-Cox transform** albo **Yeo-Johnson transform**. Podobne transformacje można też oczywiście wykonywać nie tylko dla zmiennej zależnej, ale też (a nawet jest to częstsze) dla cech.\n",
        "\n",
        "**Zadanie 1 (1 punkt)**\n",
        "\n",
        "1. Narysuj wykres cen - histogram kolumny `\"SalePrice\"`. Pamiętaj o podaniu tytułu i dodaniu legendy.\n",
        "2. Oblicz średnią i medianę cen, a następnie nanieś je na wykres jako pionowe, przerywane linie. Może się przydać [ten przykład](https://stackoverflow.com/a/57046310/9472066). Wypisz te wartości, lub zawrzyj je w opisie w legendzie, zaokrąglone do liczb całkowitych.\n",
        "3. Zlogarytmuj ceny z pomocą `np.log1p` (zamień istniejące wartości).\n",
        "4. Narysuj wykres po zlogarytmowaniu, razem z liniami dla średniej i mediany.\n",
        "\n",
        "Może ci się przydać metoda `.plot.hist()` dla `pd.Series`. Zwraca ona normalny wykres Matplotliba, do którego można potem dodawać kolejne elementy."
      ]
    },
    {
      "cell_type": "code",
      "execution_count": 6,
      "metadata": {
        "colab": {
          "base_uri": "https://localhost:8080/",
          "height": 923
        },
        "id": "-FI_G5tW-uyx",
        "outputId": "00029211-d38e-489a-ea49-9949d994f530"
      },
      "outputs": [
        {
          "data": {
            "image/png": "[encoded data removed]",
            "text/plain": [
              "<Figure size 800x500 with 1 Axes>"
            ]
          },
          "metadata": {},
          "output_type": "display_data"
        },
        {
          "data": {
            "image/png": "[encoded data removed]",
            "text/plain": [
              "<Figure size 800x500 with 1 Axes>"
            ]
          },
          "metadata": {},
          "output_type": "display_data"
        }
      ],
      "source": [
        "mean_price = df['SalePrice'].mean()\n",
        "median_price = df['SalePrice'].median()\n",
        "\n",
        "plt.figure(figsize=(8, 5))\n",
        "df['SalePrice'].plot.hist(bins=50, label='SalePrice')\n",
        "plt.axvline(mean_price, color='red')\n",
        "plt.axvline(median_price, color='green')\n",
        "plt.xlabel('SalePrice')\n",
        "plt.ylabel('Frequency')\n",
        "plt.legend()\n",
        "plt.show()\n",
        "\n",
        "df['SalePrice'] = np.log1p(df['SalePrice'])\n",
        "\n",
        "mean_log_price = df['SalePrice'].mean()\n",
        "median_log_price = df['SalePrice'].median()\n",
        "\n",
        "plt.figure(figsize=(8, 5))\n",
        "df['SalePrice'].plot.hist(bins=50, label='SalePrice')\n",
        "plt.axvline(mean_log_price, color='red')\n",
        "plt.axvline(median_log_price, color='green')\n",
        "plt.xlabel('SalePrice')\n",
        "plt.ylabel('Frequency')\n",
        "plt.legend()\n",
        "plt.show()"
      ]
    },
    {
      "cell_type": "markdown",
      "metadata": {
        "id": "tsTPFYLF-uyx"
      },
      "source": [
        "W zbiorze znajdują się liczne wartości brakujące, które zostały uzupełnione na podstawie [tego notebooka na Kaggle](https://www.kaggle.com/code/juliencs/a-study-on-regression-applied-to-the-ames-dataset)."
      ]
    },
    {
      "cell_type": "code",
      "execution_count": 7,
      "metadata": {
        "id": "eY_WggHI-uyx"
      },
      "outputs": [],
      "source": [
        "def replace_na(df: pd.DataFrame, col: str, value) -> None:\n",
        "    df.loc[:, col] = df.loc[:, col].fillna(value)\n",
        "\n",
        "# Alley : data description says NA means \"no alley access\"\n",
        "replace_na(df, \"Alley\", value=\"None\")\n",
        "\n",
        "# BedroomAbvGr : NA most likely means 0\n",
        "replace_na(df, \"BedroomAbvGr\", value=0)\n",
        "\n",
        "# BsmtQual etc : data description says NA for basement features is \"no basement\"\n",
        "replace_na(df, \"BsmtQual\", value=\"No\")\n",
        "replace_na(df, \"BsmtCond\", value=\"No\")\n",
        "replace_na(df, \"BsmtExposure\", value=\"No\")\n",
        "replace_na(df, \"BsmtFinType1\", value=\"No\")\n",
        "replace_na(df, \"BsmtFinType2\", value=\"No\")\n",
        "replace_na(df, \"BsmtFullBath\", value=0)\n",
        "replace_na(df, \"BsmtHalfBath\", value=0)\n",
        "replace_na(df, \"BsmtUnfSF\", value=0)\n",
        "\n",
        "# Condition : NA most likely means Normal\n",
        "replace_na(df, \"Condition1\", value=\"Norm\")\n",
        "replace_na(df, \"Condition2\", value=\"Norm\")\n",
        "\n",
        "# External stuff : NA most likely means average\n",
        "replace_na(df, \"ExterCond\", value=\"TA\")\n",
        "replace_na(df, \"ExterQual\", value=\"TA\")\n",
        "\n",
        "# Fence : data description says NA means \"no fence\"\n",
        "replace_na(df, \"Fence\", value=\"No\")\n",
        "\n",
        "# Functional : data description says NA means typical\n",
        "replace_na(df, \"Functional\", value=\"Typ\")\n",
        "\n",
        "# GarageType etc : data description says NA for garage features is \"no garage\"\n",
        "replace_na(df, \"GarageType\", value=\"No\")\n",
        "replace_na(df, \"GarageFinish\", value=\"No\")\n",
        "replace_na(df, \"GarageQual\", value=\"No\")\n",
        "replace_na(df, \"GarageCond\", value=\"No\")\n",
        "replace_na(df, \"GarageArea\", value=0)\n",
        "replace_na(df, \"GarageCars\", value=0)\n",
        "\n",
        "# HalfBath : NA most likely means no half baths above grade\n",
        "replace_na(df, \"HalfBath\", value=0)\n",
        "\n",
        "# HeatingQC : NA most likely means typical\n",
        "replace_na(df, \"HeatingQC\", value=\"Ta\")\n",
        "\n",
        "# KitchenAbvGr : NA most likely means 0\n",
        "replace_na(df, \"KitchenAbvGr\", value=0)\n",
        "\n",
        "# KitchenQual : NA most likely means typical\n",
        "replace_na(df, \"KitchenQual\", value=\"TA\")\n",
        "\n",
        "# LotFrontage : NA most likely means no lot frontage\n",
        "\n",
        "replace_na(df, \"LotFrontage\", value=0)\n",
        "# LotShape : NA most likely means regular\n",
        "replace_na(df, \"LotShape\", value=\"Reg\")\n",
        "\n",
        "# MasVnrType : NA most likely means no veneer\n",
        "replace_na(df, \"MasVnrType\", value=\"None\")\n",
        "replace_na(df, \"MasVnrArea\", value=0)\n",
        "\n",
        "# MiscFeature : data description says NA means \"no misc feature\"\n",
        "replace_na(df, \"MiscFeature\", value=\"No\")\n",
        "replace_na(df, \"MiscVal\", value=0)\n",
        "\n",
        "# OpenPorchSF : NA most likely means no open porch\n",
        "replace_na(df, \"OpenPorchSF\", value=0)\n",
        "\n",
        "# PavedDrive : NA most likely means not paved\n",
        "replace_na(df, \"PavedDrive\", value=\"N\")\n",
        "\n",
        "# PoolQC : data description says NA means \"no pool\"\n",
        "replace_na(df, \"PoolQC\", value=\"No\")\n",
        "replace_na(df, \"PoolArea\", value=0)\n",
        "\n",
        "# SaleCondition : NA most likely means normal sale\n",
        "replace_na(df, \"SaleCondition\", value=\"Normal\")\n",
        "\n",
        "# ScreenPorch : NA most likely means no screen porch\n",
        "replace_na(df, \"ScreenPorch\", value=0)\n",
        "\n",
        "# TotRmsAbvGrd : NA most likely means 0\n",
        "replace_na(df, \"TotRmsAbvGrd\", value=0)\n",
        "\n",
        "# Utilities : NA most likely means all public utilities\n",
        "replace_na(df, \"Utilities\", value=\"AllPub\")\n",
        "\n",
        "# WoodDeckSF : NA most likely means no wood deck\n",
        "replace_na(df, \"WoodDeckSF\", value=0)\n",
        "\n",
        "# CentralAir : NA most likely means No\n",
        "replace_na(df, \"CentralAir\", value=\"N\")\n",
        "\n",
        "# EnclosedPorch : NA most likely means no enclosed porch\n",
        "replace_na(df, \"EnclosedPorch\", value=0)\n",
        "\n",
        "# FireplaceQu : data description says NA means \"no fireplace\"\n",
        "replace_na(df, \"FireplaceQu\", value=\"No\")\n",
        "replace_na(df, \"Fireplaces\", value=0)\n",
        "\n",
        "# SaleCondition : NA most likely means normal sale\n",
        "replace_na(df, \"SaleCondition\", value=\"Normal\")\n",
        "\n",
        "# Electrical : NA most likely means standard circuit & breakers\n",
        "replace_na(df, \"Electrical\", value=\"SBrkr\")"
      ]
    },
    {
      "cell_type": "markdown",
      "metadata": {
        "id": "RQzc8m_H-uyx"
      },
      "source": [
        "W dalszej kolejności zamienimy zmienne `MSSubClass` i `MoSold` z numerycznych na kategoryczne, zgodnie z ich znaczeniem. Zakodujemy także zmienne kategoryczne uporządkowane (categorical ordinal) z tekstowych na kolejne liczby całkowite."
      ]
    },
    {
      "cell_type": "code",
      "execution_count": 8,
      "metadata": {
        "id": "idY037QP-uyx",
        "scrolled": true
      },
      "outputs": [],
      "source": [
        "df = df.replace(\n",
        "    {\n",
        "        \"MSSubClass\": {\n",
        "            20: \"SC20\",\n",
        "            30: \"SC30\",\n",
        "            40: \"SC40\",\n",
        "            45: \"SC45\",\n",
        "            50: \"SC50\",\n",
        "            60: \"SC60\",\n",
        "            70: \"SC70\",\n",
        "            75: \"SC75\",\n",
        "            80: \"SC80\",\n",
        "            85: \"SC85\",\n",
        "            90: \"SC90\",\n",
        "            120: \"SC120\",\n",
        "            150: \"SC150\",\n",
        "            160: \"SC160\",\n",
        "            180: \"SC180\",\n",
        "            190: \"SC190\",\n",
        "        },\n",
        "        \"MoSold\": {\n",
        "            1: \"Jan\",\n",
        "            2: \"Feb\",\n",
        "            3: \"Mar\",\n",
        "            4: \"Apr\",\n",
        "            5: \"May\",\n",
        "            6: \"Jun\",\n",
        "            7: \"Jul\",\n",
        "            8: \"Aug\",\n",
        "            9: \"Sep\",\n",
        "            10: \"Oct\",\n",
        "            11: \"Nov\",\n",
        "            12: \"Dec\",\n",
        "        },\n",
        "    }\n",
        ")"
      ]
    },
    {
      "cell_type": "code",
      "execution_count": 9,
      "metadata": {
        "id": "7tBBr3xf-uyx"
      },
      "outputs": [],
      "source": [
        "df = df.replace(\n",
        "    {\n",
        "        \"Alley\": {\"None\": 0, \"Grvl\": 1, \"Pave\": 2},\n",
        "        \"BsmtCond\": {\"No\": 0, \"Po\": 1, \"Fa\": 2, \"TA\": 3, \"Gd\": 4, \"Ex\": 5},\n",
        "        \"BsmtExposure\": {\"No\": 0, \"Mn\": 1, \"Av\": 2, \"Gd\": 3},\n",
        "        \"BsmtFinType1\": {\n",
        "            \"No\": 0,\n",
        "            \"Unf\": 1,\n",
        "            \"LwQ\": 2,\n",
        "            \"Rec\": 3,\n",
        "            \"BLQ\": 4,\n",
        "            \"ALQ\": 5,\n",
        "            \"GLQ\": 6,\n",
        "        },\n",
        "        \"BsmtFinType2\": {\n",
        "            \"No\": 0,\n",
        "            \"Unf\": 1,\n",
        "            \"LwQ\": 2,\n",
        "            \"Rec\": 3,\n",
        "            \"BLQ\": 4,\n",
        "            \"ALQ\": 5,\n",
        "            \"GLQ\": 6,\n",
        "        },\n",
        "        \"BsmtQual\": {\"No\": 0, \"Po\": 1, \"Fa\": 2, \"TA\": 3, \"Gd\": 4, \"Ex\": 5},\n",
        "        \"ExterCond\": {\"Po\": 1, \"Fa\": 2, \"TA\": 3, \"Gd\": 4, \"Ex\": 5},\n",
        "        \"ExterQual\": {\"Po\": 1, \"Fa\": 2, \"TA\": 3, \"Gd\": 4, \"Ex\": 5},\n",
        "        \"FireplaceQu\": {\"No\": 0, \"Po\": 1, \"Fa\": 2, \"TA\": 3, \"Gd\": 4, \"Ex\": 5},\n",
        "        \"Functional\": {\n",
        "            \"Sal\": 1,\n",
        "            \"Sev\": 2,\n",
        "            \"Maj2\": 3,\n",
        "            \"Maj1\": 4,\n",
        "            \"Mod\": 5,\n",
        "            \"Min2\": 6,\n",
        "            \"Min1\": 7,\n",
        "            \"Typ\": 8,\n",
        "        },\n",
        "        \"GarageCond\": {\"No\": 0, \"Po\": 1, \"Fa\": 2, \"TA\": 3, \"Gd\": 4, \"Ex\": 5},\n",
        "        \"GarageQual\": {\"No\": 0, \"Po\": 1, \"Fa\": 2, \"TA\": 3, \"Gd\": 4, \"Ex\": 5},\n",
        "        \"HeatingQC\": {\"Po\": 1, \"Fa\": 2, \"TA\": 3, \"Gd\": 4, \"Ex\": 5},\n",
        "        \"KitchenQual\": {\"Po\": 1, \"Fa\": 2, \"TA\": 3, \"Gd\": 4, \"Ex\": 5},\n",
        "        \"LandSlope\": {\"Sev\": 1, \"Mod\": 2, \"Gtl\": 3},\n",
        "        \"LotShape\": {\"IR3\": 1, \"IR2\": 2, \"IR1\": 3, \"Reg\": 4},\n",
        "        \"PavedDrive\": {\"N\": 0, \"P\": 1, \"Y\": 2},\n",
        "        \"PoolQC\": {\"No\": 0, \"Fa\": 1, \"TA\": 2, \"Gd\": 3, \"Ex\": 4},\n",
        "        \"Street\": {\"Grvl\": 1, \"Pave\": 2},\n",
        "        \"Utilities\": {\"ELO\": 1, \"NoSeWa\": 2, \"NoSewr\": 3, \"AllPub\": 4},\n",
        "    }\n",
        ")"
      ]
    },
    {
      "cell_type": "markdown",
      "metadata": {
        "id": "h2v5CyQt-uyy"
      },
      "source": [
        "W Pandasie zmienne kategoryczne, napisy itp. są typu `object`, natomiast numeryczne mają typy z Numpy'a, np. `int64`. Oczywiście oba rodzaje zmiennych trzeba przetwarzać na inne sposoby, więc zapiszemy to od razu. Wyodrębnimy też wektor docelowy.\n",
        "\n",
        "Od razu dokonamy też podziału na zbiór treningowy i testowy. Jako że nasz zbiór jest dość mały, to podział będzie 70%-30%."
      ]
    },
    {
      "cell_type": "code",
      "execution_count": 10,
      "metadata": {
        "id": "b4z7gQt--uyy"
      },
      "outputs": [],
      "source": [
        "from sklearn.model_selection import train_test_split\n",
        "\n",
        "y = df.pop(\"SalePrice\")\n",
        "\n",
        "categorical_features = df.select_dtypes(include=\"object\").columns\n",
        "numerical_features = df.select_dtypes(exclude=\"object\").columns\n",
        "\n",
        "X_train_raw, X_test_raw, y_train, y_test = train_test_split(\n",
        "    df, y, test_size=0.3, random_state=0\n",
        ")"
      ]
    },
    {
      "cell_type": "markdown",
      "metadata": {
        "id": "TbWW5NWp-uyy"
      },
      "source": [
        "## Analiza i przetwarzanie cech"
      ]
    },
    {
      "cell_type": "markdown",
      "metadata": {
        "id": "Vuy8iPCK-uyy"
      },
      "source": [
        "Modele liniowe działają najlepiej, kiedy nasze cechy są odpowiednio przetworzone:\n",
        "- nie może być wartości brakujących\n",
        "- wszystkie zmienne mają podobny zakres wartości\n",
        "- nie ma mocno skorelowanych ze sobą cech\n",
        "- zmienne kategoryczne muszą być zakodowane, przy czym dobrze jest, kiedy cech nie jest zbyt dużo\n",
        "\n",
        "Na start imputujemy wartości brakujące w zmiennych numerycznych i przeskalujemy je do zakresu $[0, 1]$. Potem dokonamy analizy, czy mamy mocno skorelowane zmienne.\n",
        "\n",
        "Przy przetwarzaniu danych krok po kroku lepiej robić nowe zmienne, żeby dało się odpalić znowu komórkę notebooka. Przy reużywaniu zmiennych mogłaby nastąpić konieczność uruchomienia wszystkiego od początku. Może ci się to przydać w zadaniach.\n",
        "\n",
        "Pamiętaj, żeby we wszystkich kolejnych zadaniach zastosować taką samą transformację na zbiorze treningowym i testowym. Wszelkie wartości estymujemy na zbiorze treningowym.\n",
        "\n",
        "**Zadanie 2 (0.5 punktu)**\n",
        "\n",
        "Wybierz same zmienne numeryczne. Dokonaj imputacji wartości brakujących medianą, oraz przeskaluj wartości do zakresu $[0, 1]$. Przydatne klasy: `ColumnTransformer`, `Pipeline`, `SimpleImputer`, `MinMaxScaler`.\n",
        "\n",
        "Domyślnie `ColumnTransformer` dopisuje do nazw cech wyjściowych nazwę transformera jako prefix. Bywa to dość nieczytelne i problematyczne w dalszym przetwarzaniu danych. Żeby to wyłączyć, przekaż opcję `verbose_feature_names_out=False`."
      ]
    },
    {
      "cell_type": "code",
      "execution_count": 11,
      "metadata": {
        "id": "KDEys_4N-uyz"
      },
      "outputs": [],
      "source": [
        "from sklearn.compose import ColumnTransformer\n",
        "from sklearn.impute import SimpleImputer\n",
        "from sklearn.pipeline import Pipeline\n",
        "from sklearn.preprocessing import MinMaxScaler\n",
        "\n",
        "median_imputer = SimpleImputer(strategy=\"median\")\n",
        "min_max_scaler = MinMaxScaler()\n",
        "\n",
        "numerical_pipeline = Pipeline(steps=[\n",
        "    ('imputer', median_imputer),\n",
        "    ('scaler', min_max_scaler)\n",
        "])\n",
        "\n",
        "column_transformer_num = ColumnTransformer(transformers=[\n",
        "    ('numerical', numerical_pipeline, numerical_features)\n",
        "    ], remainder='drop', verbose_feature_names_out=False)\n",
        "\n",
        "column_transformer_num.fit(X_train_raw, y_train)\n",
        "X_train_numerical = column_transformer_num.transform(X_train_raw)\n",
        "X_test_numerical = column_transformer_num.transform(X_test_raw)"
      ]
    },
    {
      "cell_type": "markdown",
      "metadata": {
        "id": "EN1YJgrF-uyz"
      },
      "source": [
        "Sprawdźmy teraz, czy mamy mocno skorelowane zmienne. Typowo przyjmuje się wartość bezwzględną korelacji powyżej progu 0.8/0.9/0.95. Pierwszą weryfikację można zrobić \"na oko\" na podstawie wykresu typu heatmap. Przekątną oczywiście ignorujemy - każda cecha ma korelację 1.0 z samą sobą.\n",
        "\n",
        "Jeżeli zauważymy grupy skorelowanych cech, to z każdej grupy trzeba zostawić jedną cechę. Biblioteka Feature-engine, komplatybilna ze Scikie-learn, oferuje tutaj wygodną klasę `SmartCorrelatedSelection`, która pozwala z każdej grupy cech zostawić tę o największej wariancji.\n",
        "\n",
        "Czemu o największej wariancji? Bo taka cecha jest mocno zmienna, a więc niesie jakąś informację. Cechy o bardzo niskiej wariancji praktycznie się nie zmieniają, więc prawdopodobnie nie są zbyt informatywne.\n",
        "\n",
        "**Zadanie 3 (0.5 punktu)**\n",
        "\n",
        "Oblicz korelacje między cechami w zbiorze treningowym, oraz narysuj heatmapę korelacji. Pandas potrafi obliczyć korelacje, a Seaborn - narysować wygodnie heatmapę.\n",
        "\n",
        "Następnie wykorzystaj Feature-engine do eliminacji mocno skorelowanych cech, z progiem 0.8 (mamy sporo cech, więc eliminujmy, czemu nie), pozostawiając cechy o największej wariancji. Wypisz nazwy wyeliminowanych cech."
      ]
    },
    {
      "cell_type": "code",
      "execution_count": 15,
      "metadata": {
        "colab": {
          "base_uri": "https://localhost:8080/"
        },
        "id": "hbtBpOKn_GsR",
        "outputId": "d747f554-4b39-4e6f-ad16-9928f01ce0d7"
      },
      "outputs": [
        {
          "name": "stdout",
          "output_type": "stream",
          "text": [
            "Requirement already satisfied: feature-engine in c:\\users\\jswia\\appdata\\local\\packages\\pythonsoftwarefoundation.python.3.9_qbz5n2kfra8p0\\localcache\\local-packages\\python39\\site-packages (1.6.2)\n",
            "Requirement already satisfied: numpy>=1.18.2 in c:\\users\\jswia\\appdata\\local\\packages\\pythonsoftwarefoundation.python.3.9_qbz5n2kfra8p0\\localcache\\local-packages\\python39\\site-packages (from feature-engine) (1.24.2)\n",
            "Requirement already satisfied: pandas>=1.0.3 in c:\\users\\jswia\\appdata\\local\\packages\\pythonsoftwarefoundation.python.3.9_qbz5n2kfra8p0\\localcache\\local-packages\\python39\\site-packages (from feature-engine) (2.0.0)\n",
            "Requirement already satisfied: scikit-learn>=1.0.0 in c:\\users\\jswia\\appdata\\local\\packages\\pythonsoftwarefoundation.python.3.9_qbz5n2kfra8p0\\localcache\\local-packages\\python39\\site-packages (from feature-engine) (1.4.1.post1)\n",
            "Requirement already satisfied: scipy>=1.4.1 in c:\\users\\jswia\\appdata\\local\\packages\\pythonsoftwarefoundation.python.3.9_qbz5n2kfra8p0\\localcache\\local-packages\\python39\\site-packages (from feature-engine) (1.11.4)\n",
            "Requirement already satisfied: statsmodels>=0.11.1 in c:\\users\\jswia\\appdata\\local\\packages\\pythonsoftwarefoundation.python.3.9_qbz5n2kfra8p0\\localcache\\local-packages\\python39\\site-packages (from feature-engine) (0.14.1)\n",
            "Requirement already satisfied: python-dateutil>=2.8.2 in c:\\users\\jswia\\appdata\\local\\packages\\pythonsoftwarefoundation.python.3.9_qbz5n2kfra8p0\\localcache\\local-packages\\python39\\site-packages (from pandas>=1.0.3->feature-engine) (2.8.2)\n",
            "Requirement already satisfied: pytz>=2020.1 in c:\\users\\jswia\\appdata\\local\\packages\\pythonsoftwarefoundation.python.3.9_qbz5n2kfra8p0\\localcache\\local-packages\\python39\\site-packages (from pandas>=1.0.3->feature-engine) (2023.3)\n",
            "Requirement already satisfied: tzdata>=2022.1 in c:\\users\\jswia\\appdata\\local\\packages\\pythonsoftwarefoundation.python.3.9_qbz5n2kfra8p0\\localcache\\local-packages\\python39\\site-packages (from pandas>=1.0.3->feature-engine) (2023.3)\n",
            "Requirement already satisfied: joblib>=1.2.0 in c:\\users\\jswia\\appdata\\local\\packages\\pythonsoftwarefoundation.python.3.9_qbz5n2kfra8p0\\localcache\\local-packages\\python39\\site-packages (from scikit-learn>=1.0.0->feature-engine) (1.3.2)\n",
            "Requirement already satisfied: threadpoolctl>=2.0.0 in c:\\users\\jswia\\appdata\\local\\packages\\pythonsoftwarefoundation.python.3.9_qbz5n2kfra8p0\\localcache\\local-packages\\python39\\site-packages (from scikit-learn>=1.0.0->feature-engine) (3.3.0)\n",
            "Requirement already satisfied: patsy>=0.5.4 in c:\\users\\jswia\\appdata\\local\\packages\\pythonsoftwarefoundation.python.3.9_qbz5n2kfra8p0\\localcache\\local-packages\\python39\\site-packages (from statsmodels>=0.11.1->feature-engine) (0.5.6)\n",
            "Requirement already satisfied: packaging>=21.3 in c:\\users\\jswia\\appdata\\local\\packages\\pythonsoftwarefoundation.python.3.9_qbz5n2kfra8p0\\localcache\\local-packages\\python39\\site-packages (from statsmodels>=0.11.1->feature-engine) (23.2)\n",
            "Requirement already satisfied: six in c:\\users\\jswia\\appdata\\local\\packages\\pythonsoftwarefoundation.python.3.9_qbz5n2kfra8p0\\localcache\\local-packages\\python39\\site-packages (from patsy>=0.5.4->statsmodels>=0.11.1->feature-engine) (1.16.0)\n",
            "Note: you may need to restart the kernel to use updated packages.\n"
          ]
        }
      ],
      "source": [
        "%pip install feature-engine"
      ]
    },
    {
      "cell_type": "code",
      "execution_count": 12,
      "metadata": {
        "colab": {
          "base_uri": "https://localhost:8080/",
          "height": 545
        },
        "id": "522Oq7UZ-uyz",
        "outputId": "a3f4adf3-2569-4c88-ee31-cb0e7805a3d6"
      },
      "outputs": [
        {
          "name": "stdout",
          "output_type": "stream",
          "text": [
            "Wyeliminowane cechy: ['BsmtFinSF2', 'TotRmsAbvGrd', 'Fireplaces', 'GarageArea', 'GarageCond', 'PoolQC']\n"
          ]
        },
        {
          "data": {
            "image/png": "[encoded data removed]",
            "text/plain": [
              "<Figure size 640x480 with 2 Axes>"
            ]
          },
          "metadata": {},
          "output_type": "display_data"
        }
      ],
      "source": [
        "from feature_engine.selection import SmartCorrelatedSelection\n",
        "\n",
        "correlation_matrix = X_train_numerical.corr(numeric_only=True)\n",
        "sns.heatmap(correlation_matrix,\n",
        "            annot=False,\n",
        "            cmap=\"coolwarm\",\n",
        "            fmt=\".2f\")\n",
        "\n",
        "correlated_selector = SmartCorrelatedSelection(\n",
        "    variables=None,\n",
        "    estimator=None,\n",
        "    missing_values=\"ignore\",\n",
        "    threshold=0.8,\n",
        "    method=\"pearson\",\n",
        "    selection_method=\"variance\")\n",
        "\n",
        "correlated_selector.fit(X_train_numerical)\n",
        "\n",
        "eliminated_features = correlated_selector.features_to_drop_\n",
        "print(\"Wyeliminowane cechy:\", eliminated_features)\n",
        "\n",
        "X_train_numerical = correlated_selector.transform(X_train_numerical)\n",
        "X_test_numerical = correlated_selector.transform(X_test_numerical)"
      ]
    },
    {
      "cell_type": "markdown",
      "metadata": {
        "id": "RmAtuODz-uyz"
      },
      "source": [
        "Przejdźmy teraz do zmiennych kategorycznych. Jeżeli pewne kategorie występują bardzo rzadko, to prawdopodobnie nie ma sensu ich rozróżniać, i można by je połączyć w jedną, np. \"Other\" albo \"Rare\". Eliminacja rzadkich kategorii bardzo zmniejszy wymiarowość po one-hot encodingu, redukując złożoność obliczeniową i pamięciową. Często robi się to nawet głównie z tego powodu, nawet jeżeli lekko pogorszy to wyniki (aczkolwiek często daje nieco lepsze).\n",
        "\n",
        "Po tym kroku możemy już wykonać one-hot encoding i uzyskać nasze zmienne kategoryczne.\n",
        "\n",
        "**Zadanie 4 (0.5 punktu)**\n",
        "\n",
        "Stwórz `ColumnTransformer`, wykonujący w pipeline'ie dla zmiennych kategorycznych (analogicznie jak w zadaniu 1 dla zmiennych numerycznych):\n",
        "- łączenie rzadkich kategorii (występujących w mniej niż 1% wierszy) w kategorię \"Rare\"\n",
        "- one-hot encoding\n",
        "\n",
        "Dla uniknięcia dummy variable trap, oraz zmniejszenia liczby wynikowych cech, podaj `drop=\"first\"` w one-hot encodingu.\n",
        "\n",
        "Przyda się `RareLabelEncoder` z Feature-engine. Żeby zadziałał dla każdej cechy, podaj mu `n_categories=0`."
      ]
    },
    {
      "cell_type": "code",
      "execution_count": 13,
      "metadata": {
        "id": "COrAM7eg-uyz",
        "scrolled": true
      },
      "outputs": [],
      "source": [
        "from feature_engine.encoding import RareLabelEncoder\n",
        "from sklearn.preprocessing import OneHotEncoder\n",
        "\n",
        "rare_encoder = RareLabelEncoder(tol=0.01,\n",
        "                                n_categories=0,\n",
        "                                replace_with='Rare')\n",
        "\n",
        "one_hot_encoder = OneHotEncoder(drop=\"first\",\n",
        "                                sparse_output=False,\n",
        "                                handle_unknown=\"ignore\")\n",
        "\n",
        "categorical_pipeline = Pipeline([\n",
        "    ('rare_encoder', rare_encoder),\n",
        "    ('one_hot_encoder', one_hot_encoder)\n",
        "])\n",
        "\n",
        "column_transformer_cat = ColumnTransformer(transformers=[\n",
        "    ('categorical', categorical_pipeline, categorical_features)\n",
        "], verbose_feature_names_out=False)\n",
        "\n",
        "X_train_categorical = column_transformer_cat.fit_transform(X_train_raw)\n",
        "X_test_categorical = column_transformer_cat.transform(X_test_raw)"
      ]
    },
    {
      "cell_type": "markdown",
      "metadata": {
        "id": "ndh4wURC-uyz"
      },
      "source": [
        "Teraz nasze cechy są w pełni przeprocesowane i gotowe do obliczeń. Trzeba je tylko połączyć - zmodyfikuj kod poniżej w zależności od nazw twoich zmiennych."
      ]
    },
    {
      "cell_type": "code",
      "execution_count": 14,
      "metadata": {
        "id": "9ZRFrIVt-uyz"
      },
      "outputs": [],
      "source": [
        "X_train_num = X_train_numerical\n",
        "X_test_num = X_test_numerical\n",
        "\n",
        "X_train_cat = X_train_categorical\n",
        "X_test_cat = X_test_categorical\n",
        "\n",
        "X_train = pd.concat([X_train_num, X_train_cat], axis=1)\n",
        "X_test = pd.concat([X_test_num, X_test_cat], axis=1)\n",
        "\n"
      ]
    },
    {
      "cell_type": "code",
      "execution_count": 15,
      "metadata": {
        "colab": {
          "base_uri": "https://localhost:8080/"
        },
        "id": "phSQyuky-uyz",
        "outputId": "39fb6fd9-d8bb-4ad2-b2b4-d2e1084215b6"
      },
      "outputs": [
        {
          "data": {
            "text/plain": [
              "(2045, 175)"
            ]
          },
          "execution_count": 15,
          "metadata": {},
          "output_type": "execute_result"
        }
      ],
      "source": [
        "X_train.shape"
      ]
    },
    {
      "cell_type": "markdown",
      "metadata": {
        "id": "njs5xU47-uy0"
      },
      "source": [
        "## Regresja liniowa, ridge i LASSO"
      ]
    },
    {
      "cell_type": "markdown",
      "metadata": {
        "id": "HXSMYmL2-uy0"
      },
      "source": [
        "Naszym baseline'owym modelem liniowym, do którego będziemy odnosić bardziej złożone modele, będzie zwykła **regresja liniowa (linear regression)**\n",
        "\n",
        "Naszymi metrykami będą zarówno **pierwiastek błędu średniokwadratowego (root mean squared error, RMSE)**, jak i **średni błąd bezwzględny (mean absolute error)**. Oba są w tej samej jednostce, co oryginalna zmienna zależna, ale skupiają się na innych rzeczach:\n",
        "- RMSE bardziej uwzględni predykcje w ogonie, czyli drogie domy\n",
        "- MAE bardziej skupi się na przeciętnym przypadku, czyli cenach bliżej mediany\n",
        "\n",
        "W praktyce często interesuje nas kilka metryk, a mamy dużo modeli do sprawdzanie. Żeby nie kopiować kodu, warto zrobić funkcję, obliczającą i wypisującą metryki dla danego problemu. Dodatkowo tutaj musimy odwrócić logarytm, który zastosowaliśmy na początku, i takie odwrotne przekształcenia też dobrze jest zawrzeć w takiej funkcji."
      ]
    },
    {
      "cell_type": "code",
      "execution_count": 16,
      "metadata": {
        "id": "Pe_J5DVT-uy0"
      },
      "outputs": [],
      "source": [
        "from sklearn.metrics import mean_absolute_error, mean_squared_error\n",
        "\n",
        "from math import sqrt\n",
        "\n",
        "\n",
        "def evaluate_model(y_train: np.ndarray, y_test: np.ndarray, y_pred_train: np.ndarray, y_pred_test: np.ndarray) -> None:\n",
        "    y_train = np.expm1(y_train)\n",
        "    y_test = np.expm1(y_test)\n",
        "\n",
        "    y_pred_train = np.expm1(y_pred_train)\n",
        "    y_pred_test = np.expm1(y_pred_test)\n",
        "\n",
        "    rmse_train = sqrt(mean_squared_error(y_train, y_pred_train))\n",
        "    mae_train = mean_absolute_error(y_train, y_pred_train)\n",
        "\n",
        "    rmse_test = sqrt(mean_squared_error(y_test, y_pred_test))\n",
        "    mae_test = mean_absolute_error(y_test, y_pred_test)\n",
        "\n",
        "    print(f\"Train RMSE {rmse_train:.2f}, MAE: {mae_train:.2f}\")\n",
        "    print(f\"Test  RMSE {rmse_test:.2f}, MAE: {mae_test:.2f}\")\n"
      ]
    },
    {
      "cell_type": "markdown",
      "metadata": {
        "id": "pHWWTJNd-uy0"
      },
      "source": [
        "Jesteśmy teraz gotowi na trening naszych modeli. Na start wytrenujmy zwykłą regresję liniową."
      ]
    },
    {
      "cell_type": "code",
      "execution_count": 17,
      "metadata": {
        "colab": {
          "base_uri": "https://localhost:8080/",
          "height": 1000
        },
        "id": "EaIxqZZG-uy0",
        "outputId": "a41efcd4-2259-48c9-98fc-1fd4e580c4ca",
        "scrolled": true
      },
      "outputs": [
        {
          "name": "stdout",
          "output_type": "stream",
          "text": [
            "Train RMSE 17643.64, MAE: 12163.17\n",
            "Test  RMSE 18693.88, MAE: 13106.54\n"
          ]
        }
      ],
      "source": [
        "from sklearn.linear_model import LinearRegression\n",
        "\n",
        "reg_linear = LinearRegression()\n",
        "reg_linear.fit(X_train, y_train)\n",
        "\n",
        "y_pred_train = reg_linear.predict(X_train)\n",
        "y_pred_test = reg_linear.predict(X_test)\n",
        "\n",
        "\n",
        "evaluate_model(y_train, y_test, y_pred_train, y_pred_test)"
      ]
    },
    {
      "cell_type": "markdown",
      "metadata": {
        "id": "f5C1x0zG-uy0"
      },
      "source": [
        "Całkiem nieźle. Dla porównania, bez usuwania skorelowanych cech i grupowania rzadkich cech, RMSE na zbiorze testowym to ponad 21 tysięcy, a model wyraźnie przeucza. Warto wykonywać odpowiedni preprocessing danych!\n",
        "\n",
        "Mamy tu wyraźną różnicę między RMSE i MAE. Można się temu przyjrzeć i przeanalizować rozkład **rezyduów (residuals)**, czyli błędów $y - \\hat{y}$.\n",
        "\n",
        "**Zadanie 5 (0.5 punktu)**\n",
        "\n",
        "Narysuj rozkład błędów popełnianych przez model regresji liniowej. Pamiętaj o odwróceniu logarytmu eksponentą (`np.expm1`). Dobierz liczbę binów histogramu tak, żeby wykres był odpowiednio czytelny. Zaznacz liniami pionowymi średnią oraz medianę. Pamiętaj o opisaniu osi Y, legendzie i tytule.\n",
        "\n",
        "Skomentuj rozkład. Jest symetryczny? Może częściej nie doceniamy wartości domu, albo ją przeceniamy, albo może są tu jakiejś pojedyncze outliery? Czy na podstawie tych rezyduów można wytłumaczyć różnicę między MAE i RMSE?"
      ]
    },
    {
      "cell_type": "code",
      "execution_count": 18,
      "metadata": {
        "id": "7KhxJ8Lb-uy0"
      },
      "outputs": [
        {
          "data": {
            "image/png": "[encoded data removed]",
            "text/plain": [
              "<Figure size 800x500 with 1 Axes>"
            ]
          },
          "metadata": {},
          "output_type": "display_data"
        },
        {
          "name": "stdout",
          "output_type": "stream",
          "text": [
            "Mean > Median\n"
          ]
        }
      ],
      "source": [
        "res = np.expm1(y_test) - np.expm1(y_pred_test)\n",
        "\n",
        "plt.figure(figsize=(8, 5))\n",
        "plt.hist(res, bins=60, alpha=0.6)\n",
        "\n",
        "res_mean = res.mean()\n",
        "res_median = res.median()\n",
        "\n",
        "plt.axvline(res_mean, color='red', label='Mean')\n",
        "plt.axvline(res_median, color='green', label='Median')\n",
        "\n",
        "plt.legend()\n",
        "plt.show()\n",
        "\n",
        "if res_mean > res_median:\n",
        "    print(\"Mean > Median\")\n",
        "else:\n",
        "    print(\"Mean < Median\")\n"
      ]
    },
    {
      "cell_type": "markdown",
      "metadata": {
        "id": "DA1JeNKY-uy0"
      },
      "source": [
        "// skomentuj tutaj :: Średnia wartość błędu jest większa od wartości mediany - wskazuje to na istnienie outlierów, które zaburzają średnią (i tym samym RMSE)"
      ]
    },
    {
      "cell_type": "markdown",
      "metadata": {
        "id": "kvCvXXRi-uy0"
      },
      "source": [
        "Mamy pewien overfitting - co prawda niewielki, ale zawsze jest coś do wyeliminowania. Dodatkowo mamy aż 175 cech - jeżeli niektóre z nich mają bardzo niską moc predykcyjną, to redukcja ich wag (lub ich usunięcie) może poprawić nawet i wynik treningowy, i testowy, bo zredukuje szum.\n",
        "\n",
        "Warto każdy model zapisywać w zmiennej o innej nazwie, żeby później móc dokonać ich porównania. Przykładowo, `reg_linear` czy `reg_ridge` jest lepszym pomysłem niż samo `reg`.\n",
        "\n",
        "Typowo siłę regularyzacji wybiera się tak, że najpierw szacujemy rząd wielkości, sprawdzając np. siatkę `[1e-3, 1e-2, 1e-1, 1, 1e1, 1e2, 1e3]`, a później zagęszczając ją w okolicy znalezionej optymalnej wartości. Można to oczywiście robić w kilku krokach.\n",
        "\n",
        "**Zadanie 6 (1 punkt)**\n",
        "\n",
        "Wytrenuj modele z regularyzacją L2 (ridge) oraz L1 (LASSO). Dobierz siłę regularyzacji, najpierw estymując rząd wielkości, a potem zagęszczając siatkę. Dla regresji ridge wybieraj model o optymalnym MAE (argument `scoring`). Zmierz czas tuningu podczas drugiego kroku, po zagęszczeniu siatki.\n",
        "\n",
        "Wypisz optymalne hiperparametry dla obu modeli, oraz ich metryki jakości.\n",
        "\n",
        "Przydadzą się `np.linspace()`, `RidgeCV` oraz `LassoCV`."
      ]
    },
    {
      "cell_type": "code",
      "execution_count": 19,
      "metadata": {
        "id": "HK5nmFA6-uy5"
      },
      "outputs": [
        {
          "name": "stdout",
          "output_type": "stream",
          "text": [
            "Ridge stats:\n",
            "Optimal alpha: 1.3862367252917935\n",
            "Tuning time: 0.3715705871582031\n",
            "Train RMSE 17615.21, MAE: 12195.00\n",
            "Test  RMSE 18468.86, MAE: 12955.57\n",
            "Lasso Stats:\n",
            "Optimal alpha: 0.0003020408163265306\n",
            "Tuning time: 0.25628018379211426\n",
            "Train RMSE 18234.61, MAE: 12552.77\n",
            "Test  RMSE 18640.60, MAE: 13043.31\n"
          ]
        }
      ],
      "source": [
        "import time\n",
        "from sklearn.linear_model import RidgeCV, LassoCV\n",
        "\n",
        "alpha_ridge = np.logspace(-3, 3, 50)\n",
        "alpha_lasso = np.logspace(-3, 3, 50)\n",
        "\n",
        "ridge_cv = RidgeCV(alphas=alpha_ridge, scoring='neg_mean_absolute_error')\n",
        "lasso_cv = LassoCV(alphas=alpha_lasso)\n",
        "\n",
        "ridge_cv.fit(X_train, y_train)\n",
        "lasso_cv.fit(X_train, y_train)\n",
        "\n",
        "ridge_start = time.time()\n",
        "alpha_ridge_fine = np.linspace(ridge_cv.alpha_ / 10, ridge_cv.alpha_ * 10, 50)\n",
        "ridge_cv = RidgeCV(alphas=alpha_ridge_fine, scoring='neg_mean_absolute_error')\n",
        "ridge_cv.fit(X_train, y_train)\n",
        "ridge_time = time.time() - ridge_start\n",
        "y_pred_train_ridge = ridge_cv.predict(X_train)\n",
        "y_pred_test_ridge = ridge_cv.predict(X_test)\n",
        "\n",
        "lasso_start = time.time()\n",
        "alpha_lasso_fine = np.linspace(lasso_cv.alpha_ / 10, lasso_cv.alpha_ * 10, 50)\n",
        "lasso_cv = LassoCV(alphas=alpha_lasso_fine)\n",
        "lasso_cv.fit(X_train, y_train)\n",
        "lasso_time = time.time() - lasso_start\n",
        "y_pred_train_lasso = lasso_cv.predict(X_train)\n",
        "y_pred_test_lasso = lasso_cv.predict(X_test)\n",
        "\n",
        "print('Ridge stats:')\n",
        "print(f'Optimal alpha: {ridge_cv.alpha_}')\n",
        "print(f'Tuning time: {ridge_time}')\n",
        "evaluate_model(y_train, y_test, y_pred_train_ridge, y_pred_test_ridge)\n",
        "\n",
        "print('Lasso Stats:')\n",
        "print(f'Optimal alpha: {lasso_cv.alpha_}')\n",
        "print(f'Tuning time: {lasso_time}')\n",
        "evaluate_model(y_train, y_test, y_pred_train_lasso, y_pred_test_lasso)\n"
      ]
    },
    {
      "cell_type": "markdown",
      "metadata": {
        "id": "izctH7-r-uy5"
      },
      "source": [
        "Dużą zaletą modeli liniowych jest możliwość analizy ważności cech oraz ich kierunku wpływu. W przypadku regresji z regularyzacją jest to szczególnie ciekawe.\n",
        "\n",
        "Jeżeli cecha \"przetrwa\" z dużą wagą w ridge regression, to znaczy, że musi być naprawdę ważna, bo inaczej opłacałoby się zmniejszyć jej wagę, żeby zmniejszyć koszt z regularyzacji. Z drugiej strony, w regresji LASSO jeżeli cecha została wyeliminowana, to musiała mieć na tyle małą moc predykcyjną, że modelowi bardziej opłacało się ją usunąć i zmniejszyć koszt z regularyzacji.\n",
        "\n",
        "**Zadanie 7 (0.5 punktu)**\n",
        "\n",
        "W tym zadaniu skorzystaj z optymalnych modeli, wyznaczonych w poprzednim zadaniu.\n",
        "\n",
        "1. Wybierz 20 najważniejszych cech według ridge regression (w sensie wartości bezwzględnej ich wag). Przedstaw je na poziomym wykresie słupkowym (horizontal bar plot), posortowane według wartości bezwzględnej. Na wykresie mają być wartości wag z wpływem (dodatni/ujemny). Pamiętaj o opisaniu osi nazwami cech i tytule wykresu.\n",
        "2. Wypisz nazwy cech wyeliminowanych przez LASSO regression, posortowane alfabetycznie. Zakładamy, że cecha jest wyeliminowana, jeżeli dla `np.isclose()` jej waga jest bliska zeru.\n",
        "\n",
        "Mogą się przydać atrybuty modelu `.coef_` oraz `.feature_names_in_`. Wszystkie operacje można łatwo wykonać, konwertując dane na `pd.Series`."
      ]
    },
    {
      "cell_type": "code",
      "execution_count": 20,
      "metadata": {
        "id": "JZXWCxfX-uy5"
      },
      "outputs": [
        {
          "data": {
            "image/png": "[encoded data removed]",
            "text/plain": [
              "<Figure size 640x480 with 1 Axes>"
            ]
          },
          "metadata": {},
          "output_type": "display_data"
        },
        {
          "name": "stdout",
          "output_type": "stream",
          "text": [
            "Eliminated features by Lasso:\n",
            "Alley\n",
            "BedroomAbvGr\n",
            "BldgType_2fmCon\n",
            "BsmtCond\n",
            "BsmtHalfBath\n",
            "BsmtUnfSF\n",
            "Condition1_Feedr\n",
            "Condition1_RRAe\n",
            "Condition1_RRAn\n",
            "Condition1_Rare\n",
            "Condition2_Rare\n",
            "Electrical_Rare\n",
            "Electrical_SBrkr\n",
            "Exterior1st_CemntBd\n",
            "Exterior1st_HdBoard\n",
            "Exterior1st_MetalSd\n",
            "Exterior1st_Plywood\n",
            "Exterior1st_Rare\n",
            "Exterior1st_Stucco\n",
            "Exterior1st_VinylSd\n",
            "Exterior1st_WdShing\n",
            "Exterior2nd_BrkFace\n",
            "Exterior2nd_CmentBd\n",
            "Exterior2nd_HdBoard\n",
            "Exterior2nd_Plywood\n",
            "Exterior2nd_Wd Sdng\n",
            "Exterior2nd_Wd Shng\n",
            "Fence_No\n",
            "Fence_Rare\n",
            "Foundation_Rare\n",
            "Foundation_Slab\n",
            "GarageFinish_No\n",
            "GarageType_Basment\n",
            "GarageType_BuiltIn\n",
            "GarageType_No\n",
            "HouseStyle_1Story\n",
            "HouseStyle_2Story\n",
            "HouseStyle_Rare\n",
            "HouseStyle_SFoyer\n",
            "HouseStyle_SLvl\n",
            "KitchenAbvGr\n",
            "LandContour_Low\n",
            "LandContour_Lvl\n",
            "LotConfig_Rare\n",
            "LowQualFinSF\n",
            "MSSubClass_SC120\n",
            "MSSubClass_SC190\n",
            "MSSubClass_SC60\n",
            "MSSubClass_SC80\n",
            "MiscFeature_Rare\n",
            "MiscFeature_Shed\n",
            "MiscVal\n",
            "MoSold_Dec\n",
            "MoSold_Jun\n",
            "MoSold_Mar\n",
            "MoSold_Oct\n",
            "MoSold_Sep\n",
            "Neighborhood_BrDale\n",
            "Neighborhood_Gilbert\n",
            "Neighborhood_Mitchel\n",
            "Neighborhood_NAmes\n",
            "Neighborhood_SWISU\n",
            "Neighborhood_Sawyer\n",
            "Neighborhood_SawyerW\n",
            "Neighborhood_Timber\n",
            "PoolArea\n",
            "RoofMatl_Rare\n",
            "SaleType_WD \n",
            "Street\n",
            "Utilities\n",
            "X2ndFlrSF\n",
            "X3SsnPorch\n"
          ]
        }
      ],
      "source": [
        "ridge_coef = pd.Series(ridge_cv.coef_, index=X_train.columns.tolist())\n",
        "lasso_coef = pd.Series(lasso_cv.coef_, index=X_train.columns.tolist())\n",
        "\n",
        "ridge_top20 = ridge_coef.abs().sort_values(ascending=False).head(20)\n",
        "ridge_top20.plot(kind='bar')\n",
        "plt.title(\"20 most important features\")\n",
        "plt.xlabel('Features')\n",
        "plt.ylabel('Coefficent val')\n",
        "plt.show()\n",
        "\n",
        "eliminated_lasso = lasso_coef[lasso_coef.apply(np.isclose, b=0)].index.sort_values().tolist()\n",
        "print(\"Eliminated features by Lasso:\")\n",
        "for feature in eliminated_lasso:\n",
        "    print(feature)\n"
      ]
    },
    {
      "cell_type": "markdown",
      "metadata": {
        "id": "k4yjWavS-uy5"
      },
      "source": [
        "## Robust regression"
      ]
    },
    {
      "cell_type": "markdown",
      "metadata": {
        "id": "AMGZzBZI-uy6"
      },
      "source": [
        "Powyższe algorytmy nie brały pod uwagę skośnego rozkładu zmiennej zależnej, oraz realnego zapotrzebowania na medianę ceny domu. Wypróbujmy zatem algorytmy, które powinny być bardziej odporne na outliery.\n",
        "\n",
        "Na start wypróbujemy Least Absolute Deviations (LAD) regression. Jako że jest to przypadek szczególny regresji kwantylowej, to w Scikit-learn używa się do tego klasy `QuantileRegressor` z podaniem odpowiedniego kwantyla."
      ]
    },
    {
      "cell_type": "code",
      "execution_count": 21,
      "metadata": {
        "id": "eq8z1AY3-uy6"
      },
      "outputs": [
        {
          "name": "stdout",
          "output_type": "stream",
          "text": [
            "Train RMSE 80520.69, MAE: 55705.73\n",
            "Test  RMSE 80920.80, MAE: 55734.18\n"
          ]
        }
      ],
      "source": [
        "from sklearn.linear_model import QuantileRegressor\n",
        "\n",
        "reg_lad = QuantileRegressor(quantile=0.5)\n",
        "reg_lad.fit(X_train, y_train)\n",
        "\n",
        "y_pred_train = reg_lad.predict(X_train)\n",
        "y_pred_test = reg_lad.predict(X_test)\n",
        "evaluate_model(y_train, y_test, y_pred_train, y_pred_test)"
      ]
    },
    {
      "cell_type": "markdown",
      "metadata": {
        "id": "yC2TQ_-o-uy6"
      },
      "source": [
        "Błąd jest wręcz tragiczny! W takich przypadkach zawsze na start trzeba się przyjrzeć predykcjom."
      ]
    },
    {
      "cell_type": "code",
      "execution_count": 22,
      "metadata": {
        "id": "NqkkSd8e-uy6"
      },
      "outputs": [
        {
          "data": {
            "text/plain": [
              "array([11.99535779, 11.99535779, 11.99535779, 11.99535779, 11.99535779,\n",
              "       11.99535779, 11.99535779, 11.99535779, 11.99535779, 11.99535779,\n",
              "       11.99535779, 11.99535779, 11.99535779, 11.99535779, 11.99535779,\n",
              "       11.99535779, 11.99535779, 11.99535779, 11.99535779, 11.99535779,\n",
              "       11.99535779, 11.99535779, 11.99535779, 11.99535779, 11.99535779,\n",
              "       11.99535779, 11.99535779, 11.99535779, 11.99535779, 11.99535779])"
            ]
          },
          "execution_count": 22,
          "metadata": {},
          "output_type": "execute_result"
        }
      ],
      "source": [
        "y_pred_test[:30]"
      ]
    },
    {
      "cell_type": "markdown",
      "metadata": {
        "id": "7HxFsKyP-uy6"
      },
      "source": [
        "Predykcje stałe - nic dziwnego, że błąd jest duży. Scikit-learn domyślnie stosuje lekką regularyzację dla wielu modeli, ale wartość ta może być zbyt duża.\n",
        "\n",
        "**Zadanie 8 (1 punkt)**\n",
        "\n",
        "Dokonaj tuningu siły regularyzacji dla LAD regression, sprawdzając 100 wartości z zakresu od 0 do `1e-3`. Wybierz model o najlepszym MAE z pomocą 5-fold CV. Zmierz czas tuningu, wypisz znalezione hiperparametry oraz sprawdź jakość finalnego modelu.\n",
        "\n",
        "Skomentuj różnicę czasową i jakościową względem modeli ridge i LASSO. Czy w tym przypadku warto wykorzystać regresję LAD?\n",
        "\n",
        "Przyda się `GridSearchCV` oraz parametr `n_jobs`."
      ]
    },
    {
      "cell_type": "code",
      "execution_count": 24,
      "metadata": {
        "id": "bkTIHCLS-uy6",
        "scrolled": true
      },
      "outputs": [
        {
          "name": "stdout",
          "output_type": "stream",
          "text": [
            "Fitting 5 folds for each of 100 candidates, totalling 500 fits\n",
            "Tuning time: 287.5139272212982\n",
            "Best parameters: {'alpha': 0.00047474747474747476}\n",
            "Train RMSE 18170.97, MAE: 11649.58\n",
            "Test  RMSE 18189.07, MAE: 12371.05\n"
          ]
        }
      ],
      "source": [
        "from sklearn.model_selection import GridSearchCV\n",
        "\n",
        "alpha_grid = np.linspace(0, 1e-3, 100)\n",
        "param_grid = {'alpha': alpha_grid}\n",
        "\n",
        "grid_search = GridSearchCV(estimator=reg_lad, param_grid=param_grid, cv=5, scoring='neg_mean_absolute_error', n_jobs=-1, verbose=3)\n",
        "start_time = time.time()\n",
        "grid_search.fit(X_train, y_train)\n",
        "final_time = time.time() - start_time\n",
        "print(f\"Tuning time: {final_time}\")\n",
        "\n",
        "best_params = grid_search.best_params_\n",
        "print(f\"Best parameters: {best_params}\")\n",
        "\n",
        "y_pred_train = grid_search.predict(X_train)\n",
        "y_pred_test = grid_search.predict(X_test)\n",
        "\n",
        "evaluate_model(y_train, y_test, y_pred_train, y_pred_test)"
      ]
    },
    {
      "cell_type": "markdown",
      "metadata": {
        "id": "vBGFsRJj-uy6"
      },
      "source": [
        "// skomentuj tutaj :: Różnica jakości prawie niezauważalna, w odróżnieniu od różnicy czasowej która jest ogromna. Chyba nie warto stosować tutaj LAD"
      ]
    },
    {
      "cell_type": "markdown",
      "metadata": {
        "id": "_9Utz2ig-uy7"
      },
      "source": [
        "Zamiast używać regresji LAD, opartej o programowanie liniowe, można też wykorzystać Huber regression. Jest ono mało czuła zarówno na $\\epsilon$ (punkt przejścia z MSE do MAE), jak i $\\alpha$ (siłę regularyzacji L2), więc często nie wymaga tuningu hiperparametrów.\n",
        "\n",
        "**Zadanie 9 (0.5 punktu)**\n",
        "\n",
        "Wytrenuj model Huber regression. Sprawdź jakość modelu. Skomentuj różnicę czasową i jakościową względem LAD regression (tutaj oczywiście bez tuningu). Z którego modelu skorzystałbyś w praktyce?\n",
        "\n",
        "Domyślna liczba iteracji solwera, 100, jest zbyt mała dla naszej liczby cech, i będą z tego wynikać ostrzeżenia o braku zbieżności, więc zwiększ ją do 2000."
      ]
    },
    {
      "cell_type": "code",
      "execution_count": 25,
      "metadata": {
        "id": "hUKtUydS-uy7"
      },
      "outputs": [
        {
          "name": "stdout",
          "output_type": "stream",
          "text": [
            "Train RMSE 18581.90, MAE: 11701.44\n",
            "Test  RMSE 17993.07, MAE: 12251.41\n"
          ]
        }
      ],
      "source": [
        "from sklearn.linear_model import HuberRegressor\n",
        "\n",
        "huber_model = HuberRegressor(max_iter=2000)\n",
        "\n",
        "huber_model.fit(X_train, y_train)\n",
        "\n",
        "y_pred_train = huber_model.predict(X_train)\n",
        "y_pred_test = huber_model.predict(X_test)\n",
        "evaluate_model(y_train, y_test, y_pred_train, y_pred_test)"
      ]
    },
    {
      "cell_type": "markdown",
      "metadata": {
        "id": "5dYOMoE4-uy7"
      },
      "source": [
        "// skomentuj tutaj :: Tutaj ponownie różnica jakości nie jest zbyt duża; czasowo troszkę gorzej niż Lasso, za to odrobinę lepsze wyniki."
      ]
    },
    {
      "cell_type": "markdown",
      "metadata": {
        "id": "BChmL4fI-uy7"
      },
      "source": [
        "## Use case, połączenie w system end-to-end"
      ]
    },
    {
      "cell_type": "markdown",
      "metadata": {
        "id": "0iZes3Os-uy7"
      },
      "source": [
        "![img.jpg](attachment:011376ee-4718-4734-9f40-4758344f9b24.jpg)"
      ]
    },
    {
      "cell_type": "markdown",
      "metadata": {
        "id": "2uzHIODr-uy7"
      },
      "source": [
        "Na rynku działa firma oferująca serwis do sprzedaży nieruchomości. CEO był na prezentacji o AI, zaczął używać ChatGPT i uznał, że też musicie mieć taki potężny ML. Zostałeś zatrudniony jako (pierwszy i jedyny) data scientist, zebrałeś historyczne dane, i nawet wdrożyłeś pierwszy model regresji liniowej do estymacji wartości nieruchomości.\n",
        "\n",
        "Pewnego dnia Product Owner przychodzi do ciebie z listą \"absolutnie krytycznych\" wymagań (propozycja nie do odrzucenia):\n",
        "1. Ciągle coś się sypie na produkcji, bo obecny pipeline do przetwarzania cech jest złożony z wielu kroków, które są copy-paste z twojego Jupyter Notebooka. Trzeba z tego zrobić jeden obiekt, zapisywać i wdrażać end-to-end.\n",
        "2. Nowe domy czasem mają ekstremalne wartości cech, których nie było w zbiorze treningowym, i na tych przypadkach model radzi sobie wystarczająco słabo. Może wystarczyłoby je jakoś przyciąć?\n",
        "3. Obecny model regresji liniowej działa w miarę ok, ale trzeba czegoś lepszego, co dawałoby lepsze MAE, bo większość klientów jest zainteresowana przeciętnie drogimi nieruchomościami.\n",
        "4. Sama przewidywana wartość nieruchomości to za mało, bo każdy wie, że ceny są zróżnicowane. Twoja regresja liniowa podaje tylko warunkową średnią, a zarówno sprzedający, jak i kupujący chcieliby znać sensowne górne i dolne widełki. Product Owner ze swojego doświadczenia sugeruje, że typowo takie wahania różnią się co najwyżej o 15 punktów procentowych w górę i dół od średniej ceny.\n",
        "\n",
        "**Zadanie 9 (4 punkty)**\n",
        "\n",
        "1. Połącz wszystkie wcześniejsze transformery dla zmiennych numerycznych i kategorycznych w jeden duży `ColumnTransformer`. Ma do niego wejść cale `X_train_raw`, a wyjść gotowy output.\n",
        "2. Przycinanie wartości do zakresu znanego ze zbioru treningowego nazywa się czasem **winsoryzacją (winsorization)**. Dodaj taki etap po skalowaniu min-max, a przed selekcją według korelacji. Przydatny będzie tutaj Feature-engine.\n",
        "3. Na podstawie wcześniejszych eksperymentów wybierz model do przewidywania własności domów. Wybór uzasadnij w komentarzu. W razie potrzeby dokonaj tuningu hiperparametrów. Zmierz jakość modelu.\n",
        "4. Wybierz i wytrenuj odpowiednie modele do regresji, żeby dostać estymację 35% i 65% ceny, w dodatku do przeciętnej ceny (estymowanej przez model z poprzedniego punktu). Dokonaj w razie potrzeby tuningu hiperparametrów. Metryką jakości może być tutaj [D^2 pinball score](d2_pinball_score), który ma wygodny zakres wartości $[0, 1]$ (dla dobrych modeli, im bliżej 1, tym lepiej). Podaj jakość finalnych modeli.\n",
        "5. Zapisz transformer do preprocessingu oraz estymatory do regresji do plików [z pomocą Jobliba](https://scikit-learn.org/stable/model_persistence.html): `ames_transformer.joblib`, `price_estimator.joblib`, `low_price_estimator.joblib`, `high_price_estimator.joblib`.\n",
        "\n",
        "Poniżej przygotowano funkcję testową, która ładuje transformer i estymatory, oraz oblicza predykcje dla trzech przykładowych domów ze zbioru testowego (taniego, przeciętnego i drogiego).\n",
        "\n",
        "Skomentuj - czy twoim zdaniem finalne modele, podające przeciętną wartość i widełki, są subiektywnie dobrej jakości?"
      ]
    },
    {
      "cell_type": "code",
      "execution_count": 28,
      "metadata": {
        "id": "mhy77IQ2-uy7"
      },
      "outputs": [
        {
          "data": {
            "text/plain": [
              "['high_price_estimator.joblib']"
            ]
          },
          "execution_count": 28,
          "metadata": {},
          "output_type": "execute_result"
        }
      ],
      "source": [
        "from feature_engine.outliers import Winsorizer\n",
        "from feature_engine.selection import DropCorrelatedFeatures\n",
        "import joblib\n",
        "from sklearn.linear_model import Ridge\n",
        "from sklearn.metrics import make_scorer\n",
        "\n",
        "\n",
        "numerical_transformer = Pipeline(steps=[\n",
        "    ('imputer', SimpleImputer(strategy='median')),\n",
        "    ('scaler', MinMaxScaler()),\n",
        "    ('winsorizer', Winsorizer()),\n",
        "    (\"correlation\", DropCorrelatedFeatures(variables=None, method=\"pearson\", threshold=0.8))\n",
        "])\n",
        "\n",
        "categorical_transformer = Pipeline(steps=[\n",
        "    ('rare_label', RareLabelEncoder(tol=0.01, n_categories=0, replace_with='Rare')),\n",
        "    ('one_hot_encoder', OneHotEncoder(drop='first', sparse_output=False, handle_unknown=\"ignore\"))\n",
        "])\n",
        "\n",
        "preprocessor = ColumnTransformer(\n",
        "    transformers=[\n",
        "        (\"numerical\", numerical_transformer, numerical_features),\n",
        "        (\"categorical\", categorical_transformer, categorical_features)],\n",
        "    verbose_feature_names_out=False\n",
        ")\n",
        "\n",
        "X_train = preprocessor.fit_transform(X_train_raw)\n",
        "\n",
        "model = Ridge()\n",
        "alpha_grid = np.linspace(0.1, 100, 4)\n",
        "param_grid = {'alpha': alpha_grid}\n",
        "grid_search = GridSearchCV(model, param_grid, cv=5, scoring=make_scorer(mean_squared_error, greater_is_better=False))\n",
        "grid_search.fit(X_train, y_train)\n",
        "best_model = grid_search.best_estimator_\n",
        "\n",
        "low_quantile_model = QuantileRegressor(quantile=0.35)\n",
        "high_quantile_model = QuantileRegressor(quantile=0.65)\n",
        "\n",
        "low_quantile_model.fit(X_train, y_train)\n",
        "high_quantile_model.fit(X_train, y_train)\n",
        "\n",
        "joblib.dump(preprocessor, \"ames_transformer.joblib\")\n",
        "joblib.dump(best_model, \"price_estimator.joblib\")\n",
        "joblib.dump(low_quantile_model, \"low_price_estimator.joblib\")\n",
        "joblib.dump(high_quantile_model, \"high_price_estimator.joblib\")"
      ]
    },
    {
      "cell_type": "code",
      "execution_count": 29,
      "metadata": {
        "id": "FdSJ0vaL-uy8"
      },
      "outputs": [
        {
          "name": "stdout",
          "output_type": "stream",
          "text": [
            "Cheap house\n",
            "True price: 127999$\n",
            "Estimated price: 142795\n",
            "Price brackets: 141500 - 189000\n",
            "Features:\n"
          ]
        },
        {
          "data": {
            "text/html": [
              "<div>\n",
              "<style scoped>\n",
              "    .dataframe tbody tr th:only-of-type {\n",
              "        vertical-align: middle;\n",
              "    }\n",
              "\n",
              "    .dataframe tbody tr th {\n",
              "        vertical-align: top;\n",
              "    }\n",
              "\n",
              "    .dataframe thead th {\n",
              "        text-align: right;\n",
              "    }\n",
              "</style>\n",
              "<table border=\"1\" class=\"dataframe\">\n",
              "  <thead>\n",
              "    <tr style=\"text-align: right;\">\n",
              "      <th></th>\n",
              "      <th>MSSubClass</th>\n",
              "      <th>MSZoning</th>\n",
              "      <th>LotFrontage</th>\n",
              "      <th>LotArea</th>\n",
              "      <th>Street</th>\n",
              "      <th>Alley</th>\n",
              "      <th>LotShape</th>\n",
              "      <th>LandContour</th>\n",
              "      <th>Utilities</th>\n",
              "      <th>LotConfig</th>\n",
              "      <th>LandSlope</th>\n",
              "      <th>Neighborhood</th>\n",
              "      <th>Condition1</th>\n",
              "      <th>Condition2</th>\n",
              "      <th>BldgType</th>\n",
              "      <th>HouseStyle</th>\n",
              "      <th>OverallQual</th>\n",
              "      <th>OverallCond</th>\n",
              "      <th>YearBuilt</th>\n",
              "      <th>YearRemodAdd</th>\n",
              "      <th>RoofStyle</th>\n",
              "      <th>RoofMatl</th>\n",
              "      <th>Exterior1st</th>\n",
              "      <th>Exterior2nd</th>\n",
              "      <th>MasVnrType</th>\n",
              "      <th>MasVnrArea</th>\n",
              "      <th>ExterQual</th>\n",
              "      <th>ExterCond</th>\n",
              "      <th>Foundation</th>\n",
              "      <th>BsmtQual</th>\n",
              "      <th>BsmtCond</th>\n",
              "      <th>BsmtExposure</th>\n",
              "      <th>BsmtFinType1</th>\n",
              "      <th>BsmtFinSF1</th>\n",
              "      <th>BsmtFinType2</th>\n",
              "      <th>BsmtFinSF2</th>\n",
              "      <th>BsmtUnfSF</th>\n",
              "      <th>TotalBsmtSF</th>\n",
              "      <th>Heating</th>\n",
              "      <th>HeatingQC</th>\n",
              "      <th>CentralAir</th>\n",
              "      <th>Electrical</th>\n",
              "      <th>X1stFlrSF</th>\n",
              "      <th>X2ndFlrSF</th>\n",
              "      <th>LowQualFinSF</th>\n",
              "      <th>GrLivArea</th>\n",
              "      <th>BsmtFullBath</th>\n",
              "      <th>BsmtHalfBath</th>\n",
              "      <th>FullBath</th>\n",
              "      <th>HalfBath</th>\n",
              "      <th>BedroomAbvGr</th>\n",
              "      <th>KitchenAbvGr</th>\n",
              "      <th>KitchenQual</th>\n",
              "      <th>TotRmsAbvGrd</th>\n",
              "      <th>Functional</th>\n",
              "      <th>Fireplaces</th>\n",
              "      <th>FireplaceQu</th>\n",
              "      <th>GarageType</th>\n",
              "      <th>GarageYrBlt</th>\n",
              "      <th>GarageFinish</th>\n",
              "      <th>GarageCars</th>\n",
              "      <th>GarageArea</th>\n",
              "      <th>GarageQual</th>\n",
              "      <th>GarageCond</th>\n",
              "      <th>PavedDrive</th>\n",
              "      <th>WoodDeckSF</th>\n",
              "      <th>OpenPorchSF</th>\n",
              "      <th>EnclosedPorch</th>\n",
              "      <th>X3SsnPorch</th>\n",
              "      <th>ScreenPorch</th>\n",
              "      <th>PoolArea</th>\n",
              "      <th>PoolQC</th>\n",
              "      <th>Fence</th>\n",
              "      <th>MiscFeature</th>\n",
              "      <th>MiscVal</th>\n",
              "      <th>MoSold</th>\n",
              "      <th>YrSold</th>\n",
              "      <th>SaleType</th>\n",
              "      <th>SaleCondition</th>\n",
              "    </tr>\n",
              "  </thead>\n",
              "  <tbody>\n",
              "    <tr>\n",
              "      <th>195</th>\n",
              "      <td>SC50</td>\n",
              "      <td>RM</td>\n",
              "      <td>50.0</td>\n",
              "      <td>6000</td>\n",
              "      <td>2</td>\n",
              "      <td>0</td>\n",
              "      <td>4</td>\n",
              "      <td>Lvl</td>\n",
              "      <td>4</td>\n",
              "      <td>Inside</td>\n",
              "      <td>3</td>\n",
              "      <td>BrkSide</td>\n",
              "      <td>Norm</td>\n",
              "      <td>Norm</td>\n",
              "      <td>1Fam</td>\n",
              "      <td>1.5Fin</td>\n",
              "      <td>6</td>\n",
              "      <td>6</td>\n",
              "      <td>1940</td>\n",
              "      <td>1950</td>\n",
              "      <td>Gable</td>\n",
              "      <td>CompShg</td>\n",
              "      <td>MetalSd</td>\n",
              "      <td>MetalSd</td>\n",
              "      <td>None</td>\n",
              "      <td>0.0</td>\n",
              "      <td>3</td>\n",
              "      <td>4</td>\n",
              "      <td>CBlock</td>\n",
              "      <td>3</td>\n",
              "      <td>3</td>\n",
              "      <td>0</td>\n",
              "      <td>2</td>\n",
              "      <td>264.0</td>\n",
              "      <td>1</td>\n",
              "      <td>0.0</td>\n",
              "      <td>308.0</td>\n",
              "      <td>572.0</td>\n",
              "      <td>GasA</td>\n",
              "      <td>5</td>\n",
              "      <td>Y</td>\n",
              "      <td>FuseA</td>\n",
              "      <td>848</td>\n",
              "      <td>348</td>\n",
              "      <td>0</td>\n",
              "      <td>1196</td>\n",
              "      <td>0.0</td>\n",
              "      <td>1.0</td>\n",
              "      <td>1</td>\n",
              "      <td>1</td>\n",
              "      <td>3</td>\n",
              "      <td>1</td>\n",
              "      <td>3</td>\n",
              "      <td>6</td>\n",
              "      <td>8</td>\n",
              "      <td>2</td>\n",
              "      <td>4</td>\n",
              "      <td>Detchd</td>\n",
              "      <td>1973.0</td>\n",
              "      <td>Unf</td>\n",
              "      <td>2.0</td>\n",
              "      <td>576.0</td>\n",
              "      <td>3</td>\n",
              "      <td>3</td>\n",
              "      <td>2</td>\n",
              "      <td>0</td>\n",
              "      <td>0</td>\n",
              "      <td>0</td>\n",
              "      <td>0</td>\n",
              "      <td>0</td>\n",
              "      <td>0</td>\n",
              "      <td>0</td>\n",
              "      <td>No</td>\n",
              "      <td>No</td>\n",
              "      <td>0</td>\n",
              "      <td>Mar</td>\n",
              "      <td>2010</td>\n",
              "      <td>WD</td>\n",
              "      <td>Normal</td>\n",
              "    </tr>\n",
              "  </tbody>\n",
              "</table>\n",
              "</div>"
            ],
            "text/plain": [
              "    MSSubClass MSZoning LotFrontage LotArea Street Alley LotShape LandContour   \n",
              "195       SC50       RM        50.0    6000      2     0        4         Lvl  \\\n",
              "\n",
              "    Utilities LotConfig LandSlope Neighborhood Condition1 Condition2 BldgType   \n",
              "195         4    Inside         3      BrkSide       Norm       Norm     1Fam  \\\n",
              "\n",
              "    HouseStyle OverallQual OverallCond YearBuilt YearRemodAdd RoofStyle   \n",
              "195     1.5Fin           6           6      1940         1950     Gable  \\\n",
              "\n",
              "    RoofMatl Exterior1st Exterior2nd MasVnrType MasVnrArea ExterQual   \n",
              "195  CompShg     MetalSd     MetalSd       None        0.0         3  \\\n",
              "\n",
              "    ExterCond Foundation BsmtQual BsmtCond BsmtExposure BsmtFinType1   \n",
              "195         4     CBlock        3        3            0            2  \\\n",
              "\n",
              "    BsmtFinSF1 BsmtFinType2 BsmtFinSF2 BsmtUnfSF TotalBsmtSF Heating   \n",
              "195      264.0            1        0.0     308.0       572.0    GasA  \\\n",
              "\n",
              "    HeatingQC CentralAir Electrical X1stFlrSF X2ndFlrSF LowQualFinSF   \n",
              "195         5          Y      FuseA       848       348            0  \\\n",
              "\n",
              "    GrLivArea BsmtFullBath BsmtHalfBath FullBath HalfBath BedroomAbvGr   \n",
              "195      1196          0.0          1.0        1        1            3  \\\n",
              "\n",
              "    KitchenAbvGr KitchenQual TotRmsAbvGrd Functional Fireplaces FireplaceQu   \n",
              "195            1           3            6          8          2           4  \\\n",
              "\n",
              "    GarageType GarageYrBlt GarageFinish GarageCars GarageArea GarageQual   \n",
              "195     Detchd      1973.0          Unf        2.0      576.0          3  \\\n",
              "\n",
              "    GarageCond PavedDrive WoodDeckSF OpenPorchSF EnclosedPorch X3SsnPorch   \n",
              "195          3          2          0           0             0          0  \\\n",
              "\n",
              "    ScreenPorch PoolArea PoolQC Fence MiscFeature MiscVal MoSold YrSold   \n",
              "195           0        0      0    No          No       0    Mar   2010  \\\n",
              "\n",
              "    SaleType SaleCondition  \n",
              "195      WD         Normal  "
            ]
          },
          "metadata": {},
          "output_type": "display_data"
        },
        {
          "name": "stdout",
          "output_type": "stream",
          "text": [
            "Average house\n",
            "True price: 157999$\n",
            "Estimated price: 153989\n",
            "Price brackets: 141500 - 189000\n",
            "Features:\n"
          ]
        },
        {
          "data": {
            "text/html": [
              "<div>\n",
              "<style scoped>\n",
              "    .dataframe tbody tr th:only-of-type {\n",
              "        vertical-align: middle;\n",
              "    }\n",
              "\n",
              "    .dataframe tbody tr th {\n",
              "        vertical-align: top;\n",
              "    }\n",
              "\n",
              "    .dataframe thead th {\n",
              "        text-align: right;\n",
              "    }\n",
              "</style>\n",
              "<table border=\"1\" class=\"dataframe\">\n",
              "  <thead>\n",
              "    <tr style=\"text-align: right;\">\n",
              "      <th></th>\n",
              "      <th>MSSubClass</th>\n",
              "      <th>MSZoning</th>\n",
              "      <th>LotFrontage</th>\n",
              "      <th>LotArea</th>\n",
              "      <th>Street</th>\n",
              "      <th>Alley</th>\n",
              "      <th>LotShape</th>\n",
              "      <th>LandContour</th>\n",
              "      <th>Utilities</th>\n",
              "      <th>LotConfig</th>\n",
              "      <th>LandSlope</th>\n",
              "      <th>Neighborhood</th>\n",
              "      <th>Condition1</th>\n",
              "      <th>Condition2</th>\n",
              "      <th>BldgType</th>\n",
              "      <th>HouseStyle</th>\n",
              "      <th>OverallQual</th>\n",
              "      <th>OverallCond</th>\n",
              "      <th>YearBuilt</th>\n",
              "      <th>YearRemodAdd</th>\n",
              "      <th>RoofStyle</th>\n",
              "      <th>RoofMatl</th>\n",
              "      <th>Exterior1st</th>\n",
              "      <th>Exterior2nd</th>\n",
              "      <th>MasVnrType</th>\n",
              "      <th>MasVnrArea</th>\n",
              "      <th>ExterQual</th>\n",
              "      <th>ExterCond</th>\n",
              "      <th>Foundation</th>\n",
              "      <th>BsmtQual</th>\n",
              "      <th>BsmtCond</th>\n",
              "      <th>BsmtExposure</th>\n",
              "      <th>BsmtFinType1</th>\n",
              "      <th>BsmtFinSF1</th>\n",
              "      <th>BsmtFinType2</th>\n",
              "      <th>BsmtFinSF2</th>\n",
              "      <th>BsmtUnfSF</th>\n",
              "      <th>TotalBsmtSF</th>\n",
              "      <th>Heating</th>\n",
              "      <th>HeatingQC</th>\n",
              "      <th>CentralAir</th>\n",
              "      <th>Electrical</th>\n",
              "      <th>X1stFlrSF</th>\n",
              "      <th>X2ndFlrSF</th>\n",
              "      <th>LowQualFinSF</th>\n",
              "      <th>GrLivArea</th>\n",
              "      <th>BsmtFullBath</th>\n",
              "      <th>BsmtHalfBath</th>\n",
              "      <th>FullBath</th>\n",
              "      <th>HalfBath</th>\n",
              "      <th>BedroomAbvGr</th>\n",
              "      <th>KitchenAbvGr</th>\n",
              "      <th>KitchenQual</th>\n",
              "      <th>TotRmsAbvGrd</th>\n",
              "      <th>Functional</th>\n",
              "      <th>Fireplaces</th>\n",
              "      <th>FireplaceQu</th>\n",
              "      <th>GarageType</th>\n",
              "      <th>GarageYrBlt</th>\n",
              "      <th>GarageFinish</th>\n",
              "      <th>GarageCars</th>\n",
              "      <th>GarageArea</th>\n",
              "      <th>GarageQual</th>\n",
              "      <th>GarageCond</th>\n",
              "      <th>PavedDrive</th>\n",
              "      <th>WoodDeckSF</th>\n",
              "      <th>OpenPorchSF</th>\n",
              "      <th>EnclosedPorch</th>\n",
              "      <th>X3SsnPorch</th>\n",
              "      <th>ScreenPorch</th>\n",
              "      <th>PoolArea</th>\n",
              "      <th>PoolQC</th>\n",
              "      <th>Fence</th>\n",
              "      <th>MiscFeature</th>\n",
              "      <th>MiscVal</th>\n",
              "      <th>MoSold</th>\n",
              "      <th>YrSold</th>\n",
              "      <th>SaleType</th>\n",
              "      <th>SaleCondition</th>\n",
              "    </tr>\n",
              "  </thead>\n",
              "  <tbody>\n",
              "    <tr>\n",
              "      <th>2538</th>\n",
              "      <td>SC80</td>\n",
              "      <td>RL</td>\n",
              "      <td>80.0</td>\n",
              "      <td>9600</td>\n",
              "      <td>2</td>\n",
              "      <td>0</td>\n",
              "      <td>4</td>\n",
              "      <td>Lvl</td>\n",
              "      <td>4</td>\n",
              "      <td>Inside</td>\n",
              "      <td>3</td>\n",
              "      <td>NAmes</td>\n",
              "      <td>Norm</td>\n",
              "      <td>Norm</td>\n",
              "      <td>1Fam</td>\n",
              "      <td>SLvl</td>\n",
              "      <td>5</td>\n",
              "      <td>7</td>\n",
              "      <td>1967</td>\n",
              "      <td>1967</td>\n",
              "      <td>Gable</td>\n",
              "      <td>CompShg</td>\n",
              "      <td>MetalSd</td>\n",
              "      <td>MetalSd</td>\n",
              "      <td>BrkFace</td>\n",
              "      <td>140.0</td>\n",
              "      <td>3</td>\n",
              "      <td>3</td>\n",
              "      <td>PConc</td>\n",
              "      <td>3</td>\n",
              "      <td>3</td>\n",
              "      <td>2</td>\n",
              "      <td>5</td>\n",
              "      <td>602.0</td>\n",
              "      <td>3</td>\n",
              "      <td>402.0</td>\n",
              "      <td>137.0</td>\n",
              "      <td>1141.0</td>\n",
              "      <td>GasA</td>\n",
              "      <td>4</td>\n",
              "      <td>Y</td>\n",
              "      <td>SBrkr</td>\n",
              "      <td>1141</td>\n",
              "      <td>0</td>\n",
              "      <td>0</td>\n",
              "      <td>1141</td>\n",
              "      <td>1.0</td>\n",
              "      <td>0.0</td>\n",
              "      <td>1</td>\n",
              "      <td>0</td>\n",
              "      <td>3</td>\n",
              "      <td>1</td>\n",
              "      <td>3</td>\n",
              "      <td>6</td>\n",
              "      <td>8</td>\n",
              "      <td>0</td>\n",
              "      <td>0</td>\n",
              "      <td>Attchd</td>\n",
              "      <td>1967.0</td>\n",
              "      <td>Unf</td>\n",
              "      <td>1.0</td>\n",
              "      <td>568.0</td>\n",
              "      <td>3</td>\n",
              "      <td>3</td>\n",
              "      <td>2</td>\n",
              "      <td>0</td>\n",
              "      <td>78</td>\n",
              "      <td>0</td>\n",
              "      <td>0</td>\n",
              "      <td>0</td>\n",
              "      <td>0</td>\n",
              "      <td>0</td>\n",
              "      <td>No</td>\n",
              "      <td>No</td>\n",
              "      <td>0</td>\n",
              "      <td>Jul</td>\n",
              "      <td>2006</td>\n",
              "      <td>WD</td>\n",
              "      <td>Normal</td>\n",
              "    </tr>\n",
              "  </tbody>\n",
              "</table>\n",
              "</div>"
            ],
            "text/plain": [
              "     MSSubClass MSZoning LotFrontage LotArea Street Alley LotShape   \n",
              "2538       SC80       RL        80.0    9600      2     0        4  \\\n",
              "\n",
              "     LandContour Utilities LotConfig LandSlope Neighborhood Condition1   \n",
              "2538         Lvl         4    Inside         3        NAmes       Norm  \\\n",
              "\n",
              "     Condition2 BldgType HouseStyle OverallQual OverallCond YearBuilt   \n",
              "2538       Norm     1Fam       SLvl           5           7      1967  \\\n",
              "\n",
              "     YearRemodAdd RoofStyle RoofMatl Exterior1st Exterior2nd MasVnrType   \n",
              "2538         1967     Gable  CompShg     MetalSd     MetalSd    BrkFace  \\\n",
              "\n",
              "     MasVnrArea ExterQual ExterCond Foundation BsmtQual BsmtCond BsmtExposure   \n",
              "2538      140.0         3         3      PConc        3        3            2  \\\n",
              "\n",
              "     BsmtFinType1 BsmtFinSF1 BsmtFinType2 BsmtFinSF2 BsmtUnfSF TotalBsmtSF   \n",
              "2538            5      602.0            3      402.0     137.0      1141.0  \\\n",
              "\n",
              "     Heating HeatingQC CentralAir Electrical X1stFlrSF X2ndFlrSF LowQualFinSF   \n",
              "2538    GasA         4          Y      SBrkr      1141         0            0  \\\n",
              "\n",
              "     GrLivArea BsmtFullBath BsmtHalfBath FullBath HalfBath BedroomAbvGr   \n",
              "2538      1141          1.0          0.0        1        0            3  \\\n",
              "\n",
              "     KitchenAbvGr KitchenQual TotRmsAbvGrd Functional Fireplaces FireplaceQu   \n",
              "2538            1           3            6          8          0           0  \\\n",
              "\n",
              "     GarageType GarageYrBlt GarageFinish GarageCars GarageArea GarageQual   \n",
              "2538     Attchd      1967.0          Unf        1.0      568.0          3  \\\n",
              "\n",
              "     GarageCond PavedDrive WoodDeckSF OpenPorchSF EnclosedPorch X3SsnPorch   \n",
              "2538          3          2          0          78             0          0  \\\n",
              "\n",
              "     ScreenPorch PoolArea PoolQC Fence MiscFeature MiscVal MoSold YrSold   \n",
              "2538           0        0      0    No          No       0    Jul   2006  \\\n",
              "\n",
              "     SaleType SaleCondition  \n",
              "2538      WD         Normal  "
            ]
          },
          "metadata": {},
          "output_type": "display_data"
        },
        {
          "name": "stdout",
          "output_type": "stream",
          "text": [
            "Expensive house\n",
            "True price: 209499$\n",
            "Estimated price: 189874\n",
            "Price brackets: 141500 - 189000\n",
            "Features:\n"
          ]
        },
        {
          "data": {
            "text/html": [
              "<div>\n",
              "<style scoped>\n",
              "    .dataframe tbody tr th:only-of-type {\n",
              "        vertical-align: middle;\n",
              "    }\n",
              "\n",
              "    .dataframe tbody tr th {\n",
              "        vertical-align: top;\n",
              "    }\n",
              "\n",
              "    .dataframe thead th {\n",
              "        text-align: right;\n",
              "    }\n",
              "</style>\n",
              "<table border=\"1\" class=\"dataframe\">\n",
              "  <thead>\n",
              "    <tr style=\"text-align: right;\">\n",
              "      <th></th>\n",
              "      <th>MSSubClass</th>\n",
              "      <th>MSZoning</th>\n",
              "      <th>LotFrontage</th>\n",
              "      <th>LotArea</th>\n",
              "      <th>Street</th>\n",
              "      <th>Alley</th>\n",
              "      <th>LotShape</th>\n",
              "      <th>LandContour</th>\n",
              "      <th>Utilities</th>\n",
              "      <th>LotConfig</th>\n",
              "      <th>LandSlope</th>\n",
              "      <th>Neighborhood</th>\n",
              "      <th>Condition1</th>\n",
              "      <th>Condition2</th>\n",
              "      <th>BldgType</th>\n",
              "      <th>HouseStyle</th>\n",
              "      <th>OverallQual</th>\n",
              "      <th>OverallCond</th>\n",
              "      <th>YearBuilt</th>\n",
              "      <th>YearRemodAdd</th>\n",
              "      <th>RoofStyle</th>\n",
              "      <th>RoofMatl</th>\n",
              "      <th>Exterior1st</th>\n",
              "      <th>Exterior2nd</th>\n",
              "      <th>MasVnrType</th>\n",
              "      <th>MasVnrArea</th>\n",
              "      <th>ExterQual</th>\n",
              "      <th>ExterCond</th>\n",
              "      <th>Foundation</th>\n",
              "      <th>BsmtQual</th>\n",
              "      <th>BsmtCond</th>\n",
              "      <th>BsmtExposure</th>\n",
              "      <th>BsmtFinType1</th>\n",
              "      <th>BsmtFinSF1</th>\n",
              "      <th>BsmtFinType2</th>\n",
              "      <th>BsmtFinSF2</th>\n",
              "      <th>BsmtUnfSF</th>\n",
              "      <th>TotalBsmtSF</th>\n",
              "      <th>Heating</th>\n",
              "      <th>HeatingQC</th>\n",
              "      <th>CentralAir</th>\n",
              "      <th>Electrical</th>\n",
              "      <th>X1stFlrSF</th>\n",
              "      <th>X2ndFlrSF</th>\n",
              "      <th>LowQualFinSF</th>\n",
              "      <th>GrLivArea</th>\n",
              "      <th>BsmtFullBath</th>\n",
              "      <th>BsmtHalfBath</th>\n",
              "      <th>FullBath</th>\n",
              "      <th>HalfBath</th>\n",
              "      <th>BedroomAbvGr</th>\n",
              "      <th>KitchenAbvGr</th>\n",
              "      <th>KitchenQual</th>\n",
              "      <th>TotRmsAbvGrd</th>\n",
              "      <th>Functional</th>\n",
              "      <th>Fireplaces</th>\n",
              "      <th>FireplaceQu</th>\n",
              "      <th>GarageType</th>\n",
              "      <th>GarageYrBlt</th>\n",
              "      <th>GarageFinish</th>\n",
              "      <th>GarageCars</th>\n",
              "      <th>GarageArea</th>\n",
              "      <th>GarageQual</th>\n",
              "      <th>GarageCond</th>\n",
              "      <th>PavedDrive</th>\n",
              "      <th>WoodDeckSF</th>\n",
              "      <th>OpenPorchSF</th>\n",
              "      <th>EnclosedPorch</th>\n",
              "      <th>X3SsnPorch</th>\n",
              "      <th>ScreenPorch</th>\n",
              "      <th>PoolArea</th>\n",
              "      <th>PoolQC</th>\n",
              "      <th>Fence</th>\n",
              "      <th>MiscFeature</th>\n",
              "      <th>MiscVal</th>\n",
              "      <th>MoSold</th>\n",
              "      <th>YrSold</th>\n",
              "      <th>SaleType</th>\n",
              "      <th>SaleCondition</th>\n",
              "    </tr>\n",
              "  </thead>\n",
              "  <tbody>\n",
              "    <tr>\n",
              "      <th>192</th>\n",
              "      <td>SC75</td>\n",
              "      <td>RL</td>\n",
              "      <td>0.0</td>\n",
              "      <td>7793</td>\n",
              "      <td>2</td>\n",
              "      <td>0</td>\n",
              "      <td>3</td>\n",
              "      <td>Bnk</td>\n",
              "      <td>4</td>\n",
              "      <td>Corner</td>\n",
              "      <td>3</td>\n",
              "      <td>BrkSide</td>\n",
              "      <td>Norm</td>\n",
              "      <td>Norm</td>\n",
              "      <td>1Fam</td>\n",
              "      <td>2.5Unf</td>\n",
              "      <td>7</td>\n",
              "      <td>7</td>\n",
              "      <td>1922</td>\n",
              "      <td>2005</td>\n",
              "      <td>Gable</td>\n",
              "      <td>CompShg</td>\n",
              "      <td>Wd Sdng</td>\n",
              "      <td>Wd Sdng</td>\n",
              "      <td>None</td>\n",
              "      <td>0.0</td>\n",
              "      <td>3</td>\n",
              "      <td>3</td>\n",
              "      <td>BrkTil</td>\n",
              "      <td>4</td>\n",
              "      <td>3</td>\n",
              "      <td>0</td>\n",
              "      <td>4</td>\n",
              "      <td>474.0</td>\n",
              "      <td>1</td>\n",
              "      <td>0.0</td>\n",
              "      <td>634.0</td>\n",
              "      <td>1108.0</td>\n",
              "      <td>GasA</td>\n",
              "      <td>3</td>\n",
              "      <td>N</td>\n",
              "      <td>FuseA</td>\n",
              "      <td>1160</td>\n",
              "      <td>908</td>\n",
              "      <td>0</td>\n",
              "      <td>2068</td>\n",
              "      <td>0.0</td>\n",
              "      <td>0.0</td>\n",
              "      <td>1</td>\n",
              "      <td>1</td>\n",
              "      <td>3</td>\n",
              "      <td>1</td>\n",
              "      <td>4</td>\n",
              "      <td>8</td>\n",
              "      <td>8</td>\n",
              "      <td>1</td>\n",
              "      <td>4</td>\n",
              "      <td>Detchd</td>\n",
              "      <td>1928.0</td>\n",
              "      <td>Unf</td>\n",
              "      <td>1.0</td>\n",
              "      <td>315.0</td>\n",
              "      <td>3</td>\n",
              "      <td>3</td>\n",
              "      <td>2</td>\n",
              "      <td>0</td>\n",
              "      <td>0</td>\n",
              "      <td>60</td>\n",
              "      <td>0</td>\n",
              "      <td>0</td>\n",
              "      <td>0</td>\n",
              "      <td>0</td>\n",
              "      <td>No</td>\n",
              "      <td>No</td>\n",
              "      <td>0</td>\n",
              "      <td>May</td>\n",
              "      <td>2010</td>\n",
              "      <td>WD</td>\n",
              "      <td>Normal</td>\n",
              "    </tr>\n",
              "  </tbody>\n",
              "</table>\n",
              "</div>"
            ],
            "text/plain": [
              "    MSSubClass MSZoning LotFrontage LotArea Street Alley LotShape LandContour   \n",
              "192       SC75       RL         0.0    7793      2     0        3         Bnk  \\\n",
              "\n",
              "    Utilities LotConfig LandSlope Neighborhood Condition1 Condition2 BldgType   \n",
              "192         4    Corner         3      BrkSide       Norm       Norm     1Fam  \\\n",
              "\n",
              "    HouseStyle OverallQual OverallCond YearBuilt YearRemodAdd RoofStyle   \n",
              "192     2.5Unf           7           7      1922         2005     Gable  \\\n",
              "\n",
              "    RoofMatl Exterior1st Exterior2nd MasVnrType MasVnrArea ExterQual   \n",
              "192  CompShg     Wd Sdng     Wd Sdng       None        0.0         3  \\\n",
              "\n",
              "    ExterCond Foundation BsmtQual BsmtCond BsmtExposure BsmtFinType1   \n",
              "192         3     BrkTil        4        3            0            4  \\\n",
              "\n",
              "    BsmtFinSF1 BsmtFinType2 BsmtFinSF2 BsmtUnfSF TotalBsmtSF Heating   \n",
              "192      474.0            1        0.0     634.0      1108.0    GasA  \\\n",
              "\n",
              "    HeatingQC CentralAir Electrical X1stFlrSF X2ndFlrSF LowQualFinSF   \n",
              "192         3          N      FuseA      1160       908            0  \\\n",
              "\n",
              "    GrLivArea BsmtFullBath BsmtHalfBath FullBath HalfBath BedroomAbvGr   \n",
              "192      2068          0.0          0.0        1        1            3  \\\n",
              "\n",
              "    KitchenAbvGr KitchenQual TotRmsAbvGrd Functional Fireplaces FireplaceQu   \n",
              "192            1           4            8          8          1           4  \\\n",
              "\n",
              "    GarageType GarageYrBlt GarageFinish GarageCars GarageArea GarageQual   \n",
              "192     Detchd      1928.0          Unf        1.0      315.0          3  \\\n",
              "\n",
              "    GarageCond PavedDrive WoodDeckSF OpenPorchSF EnclosedPorch X3SsnPorch   \n",
              "192          3          2          0           0            60          0  \\\n",
              "\n",
              "    ScreenPorch PoolArea PoolQC Fence MiscFeature MiscVal MoSold YrSold   \n",
              "192           0        0      0    No          No       0    May   2010  \\\n",
              "\n",
              "    SaleType SaleCondition  \n",
              "192      WD         Normal  "
            ]
          },
          "metadata": {},
          "output_type": "display_data"
        }
      ],
      "source": [
        "import joblib\n",
        "\n",
        "\n",
        "def test_models() -> None:\n",
        "    transformer = joblib.load(\"ames_transformer.joblib\")\n",
        "    price_reg = joblib.load(\"price_estimator.joblib\")\n",
        "    low_price_reg = joblib.load(\"low_price_estimator.joblib\")\n",
        "    high_price_reg = joblib.load(\"high_price_estimator.joblib\")\n",
        "\n",
        "    # select houses from test set around 25th, 50th and 75th percentile\n",
        "    prices = np.expm1(y_test).astype(int)\n",
        "\n",
        "    for price_type, quantile in [(\"Cheap\", 0.25), (\"Average\", 0.5), (\"Expensive\", 0.75)]:\n",
        "        idx = prices[prices == prices.quantile(quantile, interpolation=\"nearest\")].index[0]\n",
        "        X = X_test_raw.loc[idx].to_frame().T\n",
        "        y = prices[idx]\n",
        "\n",
        "        float_to_int = lambda x: int(np.round(np.expm1(x.item())))\n",
        "\n",
        "        X_transformed = transformer.transform(X)\n",
        "        y_pred = float_to_int(price_reg.predict(X_transformed))\n",
        "        y_low_pred = float_to_int(low_price_reg.predict(X_transformed))\n",
        "        y_high_pred = float_to_int(high_price_reg.predict(X_transformed))\n",
        "\n",
        "        print(f\"{price_type} house\")\n",
        "        print(f\"True price: {y}$\")\n",
        "        print(f\"Estimated price: {y_pred}\")\n",
        "        print(f\"Price brackets: {y_low_pred} - {y_high_pred}\")\n",
        "\n",
        "        print(\"Features:\")\n",
        "        with pd.option_context(\"display.max_columns\", None):\n",
        "            display(X)\n",
        "\n",
        "test_models()"
      ]
    },
    {
      "cell_type": "markdown",
      "metadata": {
        "id": "E0m12N0Q-uy8"
      },
      "source": [
        "// skomentuj tutaj"
      ]
    },
    {
      "cell_type": "markdown",
      "metadata": {
        "id": "yFgOC_OW-uy8"
      },
      "source": [
        "## Zadanie dodatkowe (3 punkty)"
      ]
    },
    {
      "cell_type": "markdown",
      "metadata": {
        "id": "fYh_i5tu-uy8"
      },
      "source": [
        "Product Owner przychodzi do ciebie ponownie. Klienci skarżą się, że nie rozumieją, czemu model przewiduje taką, a nie inną wartość dla ich domu. Przykładowo, jeżeli to ogólny stan domu (`OverallCond`) czy garażu (`GarageCond`) obniżają cenę, to byliby gotowi je wyremontować dla lepszego zysku.\n",
        "\n",
        "Jest to problem **wyjaśnialnego AI (Explainable AI, XAI)**. O ile cały model w przypadku regresji liniowej jest bardzo transparentny dzięki wagom cech i liniowym predykcjom, to już zrozumienie, czemu dana predykcja była taka, a nie inna, to już problem **lokalnej wyjaśnialności (local explainability)**, gdzie tłumaczymy pojedynczą predykcję, dla danego zestawu cech.\n",
        "\n",
        "Najpopularniejszym algorytmem jest tutaj **SHapley Additive Explanations (SHAP)**. Opiera się on o tzw. wartości Shapleya, mające bardzo solidne podstawy w kooperatywnej teorii gier. Opiera się na idei, że wartości cech grają w grę: jedne obniżają predykcję, a drugie podwyższają, a finalna predykcja modelu to ich konsekwencja. Każda cecha to gracz, ale jedna wnosi więcej, a inna mniej. Idea algorytmu SHAP to uznanie, że \"wartościowi gracze\" to wpływowe cechy, które mocno przyczyniły się do danej decyzji modelu.\n",
        "\n",
        "Obliczanie wartości Shapleya w ogólnym przypadku ma złożoność eksponencjalną. Algorytm SHAP zaproponował efektywne ich przybliżanie dla dowolnych algorytmów ML. Dla niektórych klas modeli, przede wszystkim liniowych oraz drzewiastych, istnieją szczególnie efektywne metody, które w czasie wielomianowym obliczają dokładne wartości Shapleya. Wyjaśnienia, jak działa SHAP: [link 1](https://www.youtube.com/watch?v=9haIOplEIGM), [link 2](https://www.youtube.com/watch?v=VB9uV-x0gtg), [link 3](https://www.youtube.com/watch?v=0yXtdkIL3Xk).\n",
        "\n",
        "Z pomocą biblioteki `shap` oblicz wartości Shapleya dla przykładowych domów z ostatniego zadania i wyświetl je na tzw. force plot. Przyda ci się tutaj `LinearExplainer` ([dokumentacja](https://shap.readthedocs.io/en/latest/generated/shap.LinearExplainer.html#shap.LinearExplainer)) oraz `plots.force()` ([dokumentacja](https://shap.readthedocs.io/en/latest/generated/shap.plots.force.html)).\n",
        "\n",
        "Porównaj ze sobą dwie metody estymacji: \"interventional\" oraz \"correlation_dependent\" (opisane w dokumentacji). Możesz je zaimplementować za pomocą `maskers.Independent` oraz `maskers.Impute`. Jako zbiór do porównania (tzw. background samples) użyj całego zbioru treningowego.\n",
        "\n",
        "Skomentuj, czy wyjaśnienia mają twoim zdaniem sens i czy są intuicyjne. Która metoda estymacji daje subiektywnie lepsze wyniki?"
      ]
    },
    {
      "cell_type": "code",
      "execution_count": null,
      "metadata": {
        "id": "qMN0l0ek-uy8"
      },
      "outputs": [],
      "source": []
    }
  ],
  "metadata": {
    "colab": {
      "provenance": []
    },
    "kernelspec": {
      "display_name": "Python 3",
      "language": "python",
      "name": "python3"
    },
    "language_info": {
      "codemirror_mode": {
        "name": "ipython",
        "version": 3
      },
      "file_extension": ".py",
      "mimetype": "text/x-python",
      "name": "python",
      "nbconvert_exporter": "python",
      "pygments_lexer": "ipython3",
      "version": "3.9.13"
    },
    "polyglot_notebook": {
      "kernelInfo": {
        "defaultKernelName": "csharp",
        "items": [
          {
            "aliases": [],
            "name": "csharp"
          }
        ]
      }
    }
  },
  "nbformat": 4,
  "nbformat_minor": 0
}
